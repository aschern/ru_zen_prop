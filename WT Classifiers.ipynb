{
 "cells": [
  {
   "cell_type": "code",
   "execution_count": 70,
   "metadata": {},
   "outputs": [],
   "source": [
    "import pandas as pd\n",
    "from sklearn.model_selection import train_test_split\n",
    "\n",
    "data = pd.read_json(path_or_buf=\"datasets/all.jsonl\", lines=True)\n",
    "train, test = train_test_split(data, test_size=0.2, random_state=57)"
   ]
  },
  {
   "cell_type": "code",
   "execution_count": 62,
   "metadata": {},
   "outputs": [],
   "source": [
    "import os\n",
    "\n",
    "def create_set(data):\n",
    "    X, y = [], []\n",
    "    for i in range(len(data)):\n",
    "        example = data.iloc[i]\n",
    "        text = example.text\n",
    "        for label in example.label:\n",
    "            if \"WT\" in label[2] and \"WTO\" not in label[2]:\n",
    "                X.append(text)\n",
    "                y.append(label[2])\n",
    "    return X, y \n",
    "\n",
    "X_train, y_train = create_set(train)\n",
    "X_test, y_test = create_set(test)"
   ]
  },
  {
   "cell_type": "code",
   "execution_count": 63,
   "metadata": {},
   "outputs": [
    {
     "name": "stderr",
     "output_type": "stream",
     "text": [
      "[nltk_data] Downloading package stopwords to\n",
      "[nltk_data]     /home/aschern/nltk_data...\n",
      "[nltk_data]   Package stopwords is already up-to-date!\n"
     ]
    }
   ],
   "source": [
    "import nltk\n",
    "nltk.download('stopwords')\n",
    "import pickle\n",
    "from nltk.corpus import stopwords"
   ]
  },
  {
   "cell_type": "code",
   "execution_count": 105,
   "metadata": {
    "scrolled": true
   },
   "outputs": [],
   "source": [
    "from sklearn.feature_extraction.text import TfidfVectorizer\n",
    "\n",
    "tfidfconverter = TfidfVectorizer(max_features=1500, min_df=5, max_df=0.7, stop_words=stopwords.words('russian'))\n",
    "X_train_v = tfidfconverter.fit_transform(X_train).toarray()\n",
    "X_test_v = tfidfconverter.transform(X_test).toarray()"
   ]
  },
  {
   "cell_type": "code",
   "execution_count": 106,
   "metadata": {},
   "outputs": [
    {
     "name": "stdout",
     "output_type": "stream",
     "text": [
      "0.9628406275805119\n",
      "0.99\n",
      "0.99\n",
      "Test\n",
      "0.4\n",
      "0.88\n",
      "0.88\n"
     ]
    },
    {
     "data": {
      "text/plain": [
       "[('(WT) Opinion', '(WT) Opinion'),\n",
       " ('(WT) Opinion', '(WT) Opinion'),\n",
       " ('(WT) Opinion', '(WT) Opinion'),\n",
       " ('(WT) Opinion', '(WT) Opinion'),\n",
       " ('(WT) Reporting', '(WT) Reporting'),\n",
       " ('(WT) Opinion', '(WT) Reporting'),\n",
       " ('(WT) Opinion', '(WT) Opinion'),\n",
       " ('(WT) Opinion', '(WT) Opinion'),\n",
       " ('(WT) Opinion', '(WT) Opinion'),\n",
       " ('(WT) Opinion', '(WT) Opinion'),\n",
       " ('(WT) Opinion', '(WT) Opinion'),\n",
       " ('(WT) Opinion', '(WT) Opinion'),\n",
       " ('(WT) Opinion', '(WT) Opinion'),\n",
       " ('(WT) Opinion', '(WT) Opinion'),\n",
       " ('(WT) Opinion', '(WT) Other'),\n",
       " ('(WT) Opinion', '(WT) Opinion'),\n",
       " ('(WT) Opinion', '(WT) Opinion'),\n",
       " ('(WT) Opinion', '(WT) Opinion'),\n",
       " ('(WT) Opinion', '(WT) Satire'),\n",
       " ('(WT) Opinion', '(WT) Opinion'),\n",
       " ('(WT) Opinion', '(WT) Opinion'),\n",
       " ('(WT) Opinion', '(WT) Opinion'),\n",
       " ('(WT) Opinion', '(WT) Opinion'),\n",
       " ('(WT) Opinion', '(WT) Opinion'),\n",
       " ('(WT) Opinion', '(WT) Opinion')]"
      ]
     },
     "execution_count": 106,
     "metadata": {},
     "output_type": "execute_result"
    }
   ],
   "source": [
    "from sklearn.ensemble import RandomForestClassifier\n",
    "from sklearn.metrics import f1_score, accuracy_score\n",
    "\n",
    "def get_scores(X, y):\n",
    "    preds = classifier.predict(X)\n",
    "    print(f1_score(y, preds, average='macro'))\n",
    "    print(f1_score(y, preds, average='micro'))\n",
    "    print(accuracy_score(y, preds))\n",
    "    \n",
    "\n",
    "classifier = RandomForestClassifier(n_estimators=10, max_depth=10, random_state=0, class_weight = \"balanced\")\n",
    "classifier.fit(X_train_v, y_train)\n",
    "get_scores(X_train_v, y_train)\n",
    "print(\"Test\")\n",
    "get_scores(X_test_v, y_test)\n",
    "list(zip(classifier.predict(X_test_v), y_test))"
   ]
  },
  {
   "cell_type": "markdown",
   "metadata": {},
   "source": [
    "## Keras"
   ]
  },
  {
   "cell_type": "markdown",
   "metadata": {},
   "source": [
    "tensorflow 1.15.2"
   ]
  },
  {
   "cell_type": "code",
   "execution_count": 50,
   "metadata": {},
   "outputs": [],
   "source": [
    "from tensorflow.keras import layers\n",
    "from tensorflow import keras\n",
    "import tensorflow as tf\n",
    "import matplotlib.pyplot as plt\n",
    "import pandas as pd\n",
    "import numpy as np"
   ]
  },
  {
   "cell_type": "code",
   "execution_count": 51,
   "metadata": {},
   "outputs": [
    {
     "data": {
      "text/html": [
       "<div>\n",
       "<style scoped>\n",
       "    .dataframe tbody tr th:only-of-type {\n",
       "        vertical-align: middle;\n",
       "    }\n",
       "\n",
       "    .dataframe tbody tr th {\n",
       "        vertical-align: top;\n",
       "    }\n",
       "\n",
       "    .dataframe thead th {\n",
       "        text-align: right;\n",
       "    }\n",
       "</style>\n",
       "<table border=\"1\" class=\"dataframe\">\n",
       "  <thead>\n",
       "    <tr style=\"text-align: right;\">\n",
       "      <th></th>\n",
       "      <th>id</th>\n",
       "      <th>text</th>\n",
       "      <th>Comments</th>\n",
       "      <th>label</th>\n",
       "    </tr>\n",
       "  </thead>\n",
       "  <tbody>\n",
       "    <tr>\n",
       "      <th>3</th>\n",
       "      <td>30</td>\n",
       "      <td>От вакцинации от коронавируса к чипированию //...</td>\n",
       "      <td>[]</td>\n",
       "      <td>[(WT) Opinion, (WTO) Irrelevant data / uncheck...</td>\n",
       "    </tr>\n",
       "    <tr>\n",
       "      <th>45</th>\n",
       "      <td>72</td>\n",
       "      <td>Так откуда взялся коронавирус? Учёные пришли к...</td>\n",
       "      <td>[сообщение оборвано, хотя в целом, думаю, его ...</td>\n",
       "      <td>[(WT) Reporting, (WTO) Irrelevant data / unche...</td>\n",
       "    </tr>\n",
       "    <tr>\n",
       "      <th>49</th>\n",
       "      <td>76</td>\n",
       "      <td>6 магических способов защиты от коронавируса /...</td>\n",
       "      <td>[]</td>\n",
       "      <td>[(WT) Satire, (WTO) Mocking, trolling, (WTO) M...</td>\n",
       "    </tr>\n",
       "    <tr>\n",
       "      <th>113</th>\n",
       "      <td>15</td>\n",
       "      <td>Смертельный коронавирус был создан искусственн...</td>\n",
       "      <td>[]</td>\n",
       "      <td>[(WT) Opinion, (WTO) Irrelevant data / uncheck...</td>\n",
       "    </tr>\n",
       "    <tr>\n",
       "      <th>43</th>\n",
       "      <td>70</td>\n",
       "      <td>Коронавирус - это заговор стран // Яндекс. Дзе...</td>\n",
       "      <td>[]</td>\n",
       "      <td>[(WT) Opinion, (WTO) Storytelling]</td>\n",
       "    </tr>\n",
       "    <tr>\n",
       "      <th>...</th>\n",
       "      <td>...</td>\n",
       "      <td>...</td>\n",
       "      <td>...</td>\n",
       "      <td>...</td>\n",
       "    </tr>\n",
       "    <tr>\n",
       "      <th>124</th>\n",
       "      <td>27</td>\n",
       "      <td>Почему вредно носить маску? // Яндекс. Дзен; П...</td>\n",
       "      <td>[]</td>\n",
       "      <td>[(WT) Opinion, (WTO) Emotional \"load\", (WTO) I...</td>\n",
       "    </tr>\n",
       "    <tr>\n",
       "      <th>22</th>\n",
       "      <td>49</td>\n",
       "      <td>Наталья Бублик (2020). КОРОНАВИРУС сильно НАПУ...</td>\n",
       "      <td>[]</td>\n",
       "      <td>[(WT) Opinion, (WTO) Irrelevant data / uncheck...</td>\n",
       "    </tr>\n",
       "    <tr>\n",
       "      <th>5</th>\n",
       "      <td>32</td>\n",
       "      <td>Источник: канал на Яндекс.Дзене “Андрейкин” ()...</td>\n",
       "      <td>[]</td>\n",
       "      <td>[(WT) Opinion, (WTO) Irrelevant data / uncheck...</td>\n",
       "    </tr>\n",
       "    <tr>\n",
       "      <th>86</th>\n",
       "      <td>114</td>\n",
       "      <td>Так ли страшен ковид, как его пиарят // Яндекс...</td>\n",
       "      <td>[]</td>\n",
       "      <td>[(WTO) Irrelevant data / uncheckable data, (WT...</td>\n",
       "    </tr>\n",
       "    <tr>\n",
       "      <th>79</th>\n",
       "      <td>107</td>\n",
       "      <td>Александр Великий (2022). ОФИЦИАЛЬНАЯ ПРОГРАММ...</td>\n",
       "      <td>[]</td>\n",
       "      <td>[(WTO) Irrelevant data / uncheckable data, (WT...</td>\n",
       "    </tr>\n",
       "  </tbody>\n",
       "</table>\n",
       "<p>100 rows × 4 columns</p>\n",
       "</div>"
      ],
      "text/plain": [
       "      id                                               text   \n",
       "3     30  От вакцинации от коронавируса к чипированию //...  \\\n",
       "45    72  Так откуда взялся коронавирус? Учёные пришли к...   \n",
       "49    76  6 магических способов защиты от коронавируса /...   \n",
       "113   15  Смертельный коронавирус был создан искусственн...   \n",
       "43    70  Коронавирус - это заговор стран // Яндекс. Дзе...   \n",
       "..   ...                                                ...   \n",
       "124   27  Почему вредно носить маску? // Яндекс. Дзен; П...   \n",
       "22    49  Наталья Бублик (2020). КОРОНАВИРУС сильно НАПУ...   \n",
       "5     32  Источник: канал на Яндекс.Дзене “Андрейкин” ()...   \n",
       "86   114  Так ли страшен ковид, как его пиарят // Яндекс...   \n",
       "79   107  Александр Великий (2022). ОФИЦИАЛЬНАЯ ПРОГРАММ...   \n",
       "\n",
       "                                              Comments   \n",
       "3                                                   []  \\\n",
       "45   [сообщение оборвано, хотя в целом, думаю, его ...   \n",
       "49                                                  []   \n",
       "113                                                 []   \n",
       "43                                                  []   \n",
       "..                                                 ...   \n",
       "124                                                 []   \n",
       "22                                                  []   \n",
       "5                                                   []   \n",
       "86                                                  []   \n",
       "79                                                  []   \n",
       "\n",
       "                                                 label  \n",
       "3    [(WT) Opinion, (WTO) Irrelevant data / uncheck...  \n",
       "45   [(WT) Reporting, (WTO) Irrelevant data / unche...  \n",
       "49   [(WT) Satire, (WTO) Mocking, trolling, (WTO) M...  \n",
       "113  [(WT) Opinion, (WTO) Irrelevant data / uncheck...  \n",
       "43                  [(WT) Opinion, (WTO) Storytelling]  \n",
       "..                                                 ...  \n",
       "124  [(WT) Opinion, (WTO) Emotional \"load\", (WTO) I...  \n",
       "22   [(WT) Opinion, (WTO) Irrelevant data / uncheck...  \n",
       "5    [(WT) Opinion, (WTO) Irrelevant data / uncheck...  \n",
       "86   [(WTO) Irrelevant data / uncheckable data, (WT...  \n",
       "79   [(WTO) Irrelevant data / uncheckable data, (WT...  \n",
       "\n",
       "[100 rows x 4 columns]"
      ]
     },
     "execution_count": 51,
     "metadata": {},
     "output_type": "execute_result"
    }
   ],
   "source": [
    "import pandas as pd\n",
    "from sklearn.model_selection import train_test_split\n",
    "\n",
    "data = pd.read_json(path_or_buf=\"datasets/all.jsonl\", lines=True)\n",
    "data[\"label\"] = data[\"label\"].apply(lambda x: [el[2] for el in x if \"WT\" in el[2]])\n",
    "train, test = train_test_split(data, test_size=0.2, random_state=57)\n",
    "train"
   ]
  },
  {
   "cell_type": "code",
   "execution_count": 52,
   "metadata": {},
   "outputs": [
    {
     "data": {
      "text/plain": [
       "Counter({'(WT) Opinion': 86,\n",
       "         '(WTO) Irrelevant data / uncheckable data': 105,\n",
       "         '(WTO) Shock content': 30,\n",
       "         '(WT) Reporting': 7,\n",
       "         '(WTO) Promotion': 32,\n",
       "         '(WT) Satire': 3,\n",
       "         '(WTO) Mocking, trolling': 21,\n",
       "         '(WTO) Obfuscation': 19,\n",
       "         '(WTO) Emotional \"load\"': 43,\n",
       "         '(WTO) Storytelling': 41,\n",
       "         '(WTO) Slogans, myths, stereotypes': 45,\n",
       "         '(WTO) Oversimplification': 8,\n",
       "         '(WTO) Repetition': 10,\n",
       "         '(WTO) Allegories and metaphors': 17,\n",
       "         '(WTO) Extremums': 10,\n",
       "         '(WT) Other': 4})"
      ]
     },
     "execution_count": 52,
     "metadata": {},
     "output_type": "execute_result"
    }
   ],
   "source": [
    "from collections import Counter\n",
    "Counter(np.concatenate(train.label.values))"
   ]
  },
  {
   "cell_type": "markdown",
   "metadata": {},
   "source": [
    "Multilabel на все"
   ]
  },
  {
   "cell_type": "code",
   "execution_count": 53,
   "metadata": {},
   "outputs": [
    {
     "name": "stdout",
     "output_type": "stream",
     "text": [
      "Number of rows in training set: 90\n",
      "Number of rows in validation set: 10\n",
      "Number of rows in test set: 25\n"
     ]
    }
   ],
   "source": [
    "test_split = 0.1\n",
    "\n",
    "# Initial train and test split.\n",
    "train_df, val_df = train_test_split(\n",
    "    train,\n",
    "    test_size=test_split,\n",
    "    # stratify=train[\"label\"].values, # для imbalanve,\n",
    "    random_state=42    \n",
    ")\n",
    "test_df = test\n",
    "\n",
    "print(f\"Number of rows in training set: {len(train_df)}\")\n",
    "print(f\"Number of rows in validation set: {len(val_df)}\")\n",
    "print(f\"Number of rows in test set: {len(test_df)}\")"
   ]
  },
  {
   "cell_type": "code",
   "execution_count": 54,
   "metadata": {
    "scrolled": true
   },
   "outputs": [
    {
     "name": "stdout",
     "output_type": "stream",
     "text": [
      "Vocabulary:\n",
      "\n",
      "['[UNK]', '(WTO) Irrelevant data / uncheckable data', '(WT) Opinion', '(WTO) Slogans, myths, stereotypes', '(WTO) Emotional \"load\"', '(WTO) Storytelling', '(WTO) Promotion', '(WTO) Shock content', '(WTO) Mocking, trolling', '(WTO) Obfuscation', '(WTO) Allegories and metaphors', '(WTO) Repetition', '(WTO) Extremums', '(WTO) Oversimplification', '(WT) Reporting', '(WT) Other', '(WT) Satire']\n"
     ]
    },
    {
     "name": "stderr",
     "output_type": "stream",
     "text": [
      "2023-05-08 16:49:39.627581: I tensorflow/core/common_runtime/executor.cc:1197] [/device:CPU:0] (DEBUG INFO) Executor start aborting (this does not indicate an error and you can ignore this message): INVALID_ARGUMENT: You must feed a value for placeholder tensor 'Placeholder/_0' with dtype variant and shape [90]\n",
      "\t [[{{node Placeholder/_0}}]]\n"
     ]
    }
   ],
   "source": [
    "labels = tf.ragged.constant(train_df[\"label\"].values)\n",
    "lookup = tf.keras.layers.StringLookup(output_mode=\"multi_hot\")\n",
    "lookup.adapt(labels)\n",
    "vocab = lookup.get_vocabulary()\n",
    "\n",
    "\n",
    "def invert_multi_hot(encoded_labels):\n",
    "    \"\"\"Reverse a single multi-hot encoded label to a tuple of vocab terms.\"\"\"\n",
    "    hot_indices = np.argwhere(encoded_labels == 1.0)[..., 0]\n",
    "    return np.take(vocab, hot_indices)\n",
    "\n",
    "print(\"Vocabulary:\\n\")\n",
    "print(vocab)"
   ]
  },
  {
   "cell_type": "code",
   "execution_count": 55,
   "metadata": {},
   "outputs": [],
   "source": [
    "batch_size = 4\n",
    "auto = tf.data.AUTOTUNE\n",
    "\n",
    "\n",
    "def make_dataset(dataframe, is_train=True):\n",
    "    labels = tf.ragged.constant(dataframe[\"label\"].values)\n",
    "    label_binarized = lookup(labels).numpy()\n",
    "    dataset = tf.data.Dataset.from_tensor_slices(\n",
    "        (dataframe[\"text\"].values, label_binarized)\n",
    "    )\n",
    "    dataset = dataset.shuffle(batch_size * 10) if is_train else dataset\n",
    "    return dataset.batch(batch_size)"
   ]
  },
  {
   "cell_type": "code",
   "execution_count": 56,
   "metadata": {},
   "outputs": [],
   "source": [
    "train_dataset = make_dataset(train_df, is_train=True)\n",
    "validation_dataset = make_dataset(val_df, is_train=False)\n",
    "test_dataset = make_dataset(test_df, is_train=False)"
   ]
  },
  {
   "cell_type": "code",
   "execution_count": 57,
   "metadata": {
    "scrolled": true
   },
   "outputs": [
    {
     "name": "stdout",
     "output_type": "stream",
     "text": [
      "Text: b'\\xd0\\x9a\\xd0\\x9e\\xd0\\x92\\xd0\\x98\\xd0\\x94-\\xd0\\x9f\\xd0\\x90\\xd0\\xa1\\xd0\\x9f\\xd0\\x9e\\xd0\\xa0\\xd0\\xa2: \\xd0\\xb1\\xd0\\xb5\\xd0\\xb7\\xd0\\xbe\\xd0\\xbf\\xd0\\xb0\\xd1\\x81\\xd0\\xbd\\xd0\\xbe\\xd1\\x81\\xd1\\x82\\xd1\\x8c \\xd0\\xb8\\xd0\\xbb\\xd0\\xb8 \\xd0\\xbf\\xd1\\x80\\xd0\\xb8\\xd0\\xbd\\xd1\\x83\\xd0\\xb4\\xd0\\xb8\\xd0\\xbb\\xd0\\xbe\\xd0\\xb2\\xd0\\xba\\xd0\\xb0? // \\xd0\\xaf\\xd0\\xbd\\xd0\\xb4\\xd0\\xb5\\xd0\\xba\\xd1\\x81. \\xd0\\x94\\xd0\\xb7\\xd0\\xb5\\xd0\\xbd. \\xd0\\x9b\\xd0\\xbe\\xd0\\xb2\\xd0\\xb8 \\xd0\\x9c\\xd0\\xbe\\xd0\\xbc\\xd0\\xb5\\xd0\\xbd\\xd1\\x82; URL: https://dzen.ru/a/X_wzS_kGsWhyeuzf (13.01.2021)\\n\\n\\n\\n\\xd0\\x9f\\xd0\\xb0\\xd0\\xbd\\xd0\\xb4\\xd0\\xb5\\xd0\\xbc\\xd0\\xb8\\xd1\\x8f \\xd0\\xba\\xd0\\xbe\\xd1\\x80\\xd0\\xbe\\xd0\\xbd\\xd0\\xb0\\xd0\\xb2\\xd0\\xb8\\xd1\\x80\\xd1\\x83\\xd1\\x81\\xd0\\xb0 \\xd0\\xb1\\xd1\\x83\\xd1\\x88\\xd1\\x83\\xd0\\xb5\\xd1\\x82, \\xd0\\xb0 \\xd0\\xb2\\xd1\\x82\\xd0\\xbe\\xd1\\x80\\xd0\\xbe\\xd0\\xb9 \\xd1\\x81\\xd0\\xb5\\xd0\\xb7\\xd0\\xbe\\xd0\\xbd \\xd1\\x8d\\xd1\\x82\\xd0\\xbe\\xd0\\xb3\\xd0\\xbe \\xd1\\x84\\xd0\\xb8\\xd0\\xbb\\xd1\\x8c\\xd0\\xbc\\xd0\\xb0 \\xd1\\x83\\xd0\\xb6\\xd0\\xb5 \\xd0\\xbd\\xd0\\xb0\\xd1\\x87\\xd0\\xb0\\xd0\\xbb\\xd1\\x81\\xd1\\x8f \\xd1\\x81 \\xd0\\xbd\\xd0\\xb0\\xd1\\x87\\xd0\\xb0\\xd0\\xbb\\xd0\\xbe\\xd0\\xbc \\xd0\\xbd\\xd0\\xbe\\xd0\\xb2\\xd0\\xbe\\xd0\\xb3\\xd0\\xbe 2021 \\xd0\\xb3\\xd0\\xbe\\xd0\\xb4\\xd0\\xb0. \\xd0\\xa2\\xd0\\xb5\\xd0\\xbf\\xd0\\xb5\\xd1\\x80\\xd1\\x8c \\xd0\\xb2\\xd1\\x81\\xd1\\x91 \\xd0\\xb1\\xd0\\xbe\\xd0\\xbb\\xd1\\x8c\\xd1\\x88\\xd0\\xb5 \\xd0\\xa1\\xd0\\x9c\\xd0\\x98 \\xd0\\xb3\\xd0\\xbe\\xd0\\xb2\\xd0\\xbe\\xd1\\x80\\xd1\\x8f\\xd1\\x82 \\xd0\\xbe \\xd0\\xbd\\xd0\\xb5\\xd0\\xbe\\xd0\\xb1\\xd1\\x85\\xd0\\xbe\\xd0\\xb4\\xd0\\xb8\\xd0\\xbc\\xd0\\xbe\\xd1\\x81\\xd1\\x82\\xd0\\xb8 \\xd0\\xb2\\xd0\\xb0\\xd0\\xba\\xd1\\x86\\xd0\\xb8\\xd0\\xbd\\xd0\\xb0\\xd1\\x86\\xd0\\xb8\\xd0\\xb8.\\n\\n\\xd0\\xa7\\xd1\\x82\\xd0\\xbe \\xd1\\x82\\xd0\\xb0\\xd0\\xba\\xd0\\xbe\\xd0\\xb5 \\xd0\\x9a\\xd0\\x9e\\xd0\\x92\\xd0\\x98\\xd0\\x94-\\xd0\\x9f\\xd0\\x90\\xd0\\xa1\\xd0\\x9f\\xd0\\x9e\\xd0\\xa0\\xd0\\xa2?\\xc2\\xa0\\xd0\\x94\\xd0\\xbb\\xd1\\x8f \\xd1\\x82\\xd0\\xb5\\xd1\\x85, \\xd0\\xba\\xd1\\x82\\xd0\\xbe \\xd0\\xbd\\xd0\\xb5 \\xd0\\xbf\\xd1\\x80\\xd0\\xbe\\xd1\\x87\\xd0\\xb8\\xd1\\x82\\xd0\\xb0\\xd0\\xbb \\xd0\\xbc\\xd0\\xbe\\xd1\\x8e \\xd1\\x81\\xd1\\x82\\xd0\\xb0\\xd1\\x82\\xd1\\x8c\\xd1\\x8e \\xd0\\xbe\\xd0\\xb1 \\xd1\\x8d\\xd1\\x82\\xd0\\xbe\\xd0\\xbc \\xd1\\x80\\xd0\\xb5\\xd0\\xba\\xd0\\xbe\\xd0\\xbc\\xd0\\xb5\\xd0\\xbd\\xd0\\xb4\\xd1\\x83\\xd1\\x8e \\xd0\\xbe\\xd0\\xb7\\xd0\\xbd\\xd0\\xb0\\xd0\\xba\\xd0\\xbe\\xd0\\xbc\\xd0\\xb8\\xd1\\x82\\xd1\\x8c\\xd1\\x81\\xd1\\x8f -\\xc2\\xa0\\xd1\\x82\\xd1\\x83\\xd1\\x82.\\xc2\\xa0\\xd0\\x9a\\xd1\\x80\\xd0\\xb0\\xd1\\x82\\xd0\\xba\\xd0\\xbe \\xd0\\xbd\\xd0\\xb0\\xd0\\xbf\\xd0\\xbe\\xd0\\xbc\\xd0\\xbd\\xd1\\x8e, \\xd1\\x87\\xd1\\x82\\xd0\\xbe \\xd0\\x9a\\xd0\\x9e\\xd0\\x92\\xd0\\x98\\xd0\\x94-\\xd0\\x9f\\xd0\\x90\\xd0\\xa1\\xd0\\x9f\\xd0\\x9e\\xd0\\xa0\\xd0\\xa2 - \\xd1\\x8d\\xd1\\x82\\xd0\\xbe \\xd0\\xb3\\xd1\\x80\\xd1\\x83\\xd0\\xb1\\xd0\\xbe \\xd0\\xb3\\xd0\\xbe\\xd0\\xb2\\xd0\\xbe\\xd1\\x80\\xd1\\x8f \\xd1\\x81\\xd0\\xbf\\xd1\\x80\\xd0\\xb0\\xd0\\xb2\\xd0\\xba\\xd0\\xb0, \\xd1\\x87\\xd1\\x82\\xd0\\xbe \\xd0\\xb2\\xd1\\x8b \\xd1\\x81\\xd0\\xb4\\xd0\\xb5\\xd0\\xbb\\xd0\\xb0\\xd0\\xbb\\xd0\\xb8 \\xd0\\xbf\\xd1\\x80\\xd0\\xb8\\xd0\\xb2\\xd0\\xb8\\xd0\\xb2\\xd0\\xba\\xd1\\x83 \\xd0\\xbe\\xd1\\x82 \\xd0\\xba\\xd0\\xbe\\xd1\\x80\\xd0\\xbe\\xd0\\xbd\\xd0\\xb0\\xd0\\xb2\\xd0\\xb8\\xd1\\x80\\xd1\\x83\\xd1\\x81\\xd0\\xb0.\\n\\n\\xd0\\xa0\\xd0\\xb0\\xd0\\xb7\\xd0\\xbd\\xd1\\x8b\\xd0\\xb5 \\xd1\\x81\\xd1\\x82\\xd1\\x80\\xd0\\xb0\\xd0\\xbd\\xd1\\x8b \\xd0\\xb3\\xd0\\xbe\\xd0\\xb2\\xd0\\xbe\\xd1\\x80\\xd1\\x8f\\xd1\\x82 \\xd0\\xbe \\xd1\\x80\\xd0\\xb0\\xd0\\xb7\\xd1\\x80\\xd0\\xb0\\xd0\\xb1\\xd0\\xbe\\xd1\\x82\\xd0\\xba\\xd0\\xb0\\xd1\\x85 \\xd1\\x81\\xd0\\xb2\\xd0\\xbe\\xd0\\xb8\\xd1\\x85 \\xd0\\xb2\\xd0\\xb0\\xd0\\xba\\xd1\\x86\\xd0\\xb8\\xd0\\xbd. \\xd0\\x98 \\xd0\\xb4\\xd0\\xb0\\xd0\\xb6\\xd0\\xb5 \\xd0\\xbd\\xd0\\xb8\\xd0\\xba\\xd1\\x82\\xd0\\xbe \\xd0\\xbd\\xd0\\xb5 \\xd0\\xb7\\xd0\\xb0\\xd0\\xb4\\xd1\\x83\\xd0\\xbc\\xd1\\x8b\\xd0\\xb2\\xd0\\xb0\\xd0\\xb5\\xd1\\x82\\xd1\\x81\\xd1\\x8f:\\n\\n\\xd0\\xaf\\xd0\\xb2\\xd0\\xbb\\xd1\\x8f\\xd0\\xb5\\xd1\\x82\\xd1\\x81\\xd1\\x8f \\xd0\\xbb\\xd0\\xb8 \\xd0\\xb2\\xd0\\xb0\\xd0\\xba\\xd1\\x86\\xd0\\xb8\\xd0\\xbd\\xd0\\xb0\\xd1\\x86\\xd0\\xb8\\xd1\\x8f \\xd0\\xbe\\xd0\\xb3\\xd1\\x80\\xd0\\xb0\\xd0\\xbd\\xd0\\xb8\\xd1\\x87\\xd0\\xb5\\xd0\\xbd\\xd0\\xb8\\xd0\\xb5\\xd0\\xbc \\xd0\\xbf\\xd1\\x80\\xd0\\xb0\\xd0\\xb2 \\xd1\\x87\\xd0\\xb5\\xd0\\xbb\\xd0\\xbe\\xd0\\xb2\\xd0\\xb5\\xd0\\xba\\xd0\\xb0, \\xd0\\xb5\\xd1\\x81\\xd0\\xbb\\xd0\\xb8 \\xd0\\xb2 \\xd0\\xb4\\xd0\\xb0\\xd0\\xbb\\xd1\\x8c\\xd0\\xbd\\xd0\\xb5\\xd0\\xb9\\xd1\\x88\\xd0\\xb5\\xd0\\xbc \\xd0\\xb5\\xd0\\xbc\\xd1\\x83, \\xd0\\xbd\\xd0\\xb0\\xd0\\xbf\\xd1\\x80\\xd0\\xb8\\xd0\\xbc\\xd0\\xb5\\xd1\\x80, \\xd0\\xb1\\xd1\\x83\\xd0\\xb4\\xd0\\xb5\\xd1\\x82 \\xd0\\xbe\\xd0\\xb3\\xd1\\x80\\xd0\\xb0\\xd0\\xbd\\xd0\\xb8\\xd1\\x87\\xd0\\xb5\\xd0\\xbd\\xd0\\xbe \\xd0\\xbf\\xd0\\xb5\\xd1\\x80\\xd0\\xb5\\xd0\\xb4\\xd0\\xb2\\xd0\\xb8\\xd0\\xb6\\xd0\\xb5\\xd0\\xbd\\xd0\\xb8\\xd0\\xb5?\\n\\n\\xd0\\xa1 \\xd1\\x82\\xd0\\xbe\\xd1\\x87\\xd0\\xba\\xd0\\xb8 \\xd0\\xb7\\xd1\\x80\\xd0\\xb5\\xd0\\xbd\\xd0\\xb8\\xd1\\x8f \\xd0\\xb1\\xd0\\xb0\\xd0\\xb7\\xd0\\xbe\\xd0\\xb2\\xd1\\x8b\\xd1\\x85 \\xd0\\xbf\\xd1\\x80\\xd0\\xb0\\xd0\\xb2 \\xd1\\x87\\xd0\\xb5\\xd0\\xbb\\xd0\\xbe\\xd0\\xb2\\xd0\\xb5\\xd0\\xba\\xd0\\xb0 \\xd0\\xb4\\xd0\\xb0, \\xd1\\x8d\\xd1\\x82\\xd0\\xbe \\xd0\\xbe\\xd0\\xbf\\xd1\\x80\\xd0\\xb5\\xd0\\xb4\\xd0\\xb5\\xd0\\xbb\\xd0\\xb5\\xd0\\xbd\\xd0\\xbd\\xd0\\xb0\\xd1\\x8f \\xd0\\xb4\\xd0\\xb8\\xd1\\x81\\xd0\\xba\\xd1\\x80\\xd0\\xb8\\xd0\\xbc\\xd0\\xb8\\xd0\\xbd\\xd0\\xb0\\xd1\\x86\\xd0\\xb8\\xd1\\x8f \\xd0\\xbf\\xd1\\x80\\xd0\\xb0\\xd0\\xb2. \\xd0\\x9e\\xd0\\xb4\\xd0\\xbd\\xd0\\xb0\\xd0\\xba\\xd0\\xbe, \\xd0\\xba\\xd1\\x82\\xd0\\xbe \\xd0\\xb2\\xd0\\xbe\\xd0\\xbe\\xd0\\xb1\\xd1\\x89\\xd0\\xb5 \\xd0\\xb7\\xd0\\xb0\\xd0\\xb4\\xd1\\x83\\xd0\\xbc\\xd1\\x8b\\xd0\\xb2\\xd0\\xb0\\xd0\\xb5\\xd1\\x82\\xd1\\x81\\xd1\\x8f \\xd0\\xbe \\xd0\\xbf\\xd1\\x80\\xd0\\xb0\\xd0\\xb2\\xd0\\xb0\\xd1\\x85 \\xd0\\xb2 2021 \\xd0\\xb3\\xd0\\xbe\\xd0\\xb4\\xd1\\x83, \\xd0\\xba\\xd0\\xbe\\xd0\\xb3\\xd0\\xb4\\xd0\\xb0 \\xd0\\xb4\\xd0\\xb0\\xd0\\xb6\\xd0\\xb5 \\xd0\\x9a\\xd0\\xb0\\xd0\\xbf\\xd0\\xb8\\xd1\\x82\\xd0\\xbe\\xd0\\xbb\\xd0\\xb8\\xd0\\xb9 - \\xd1\\x86\\xd0\\xb5\\xd0\\xbd\\xd1\\x82\\xd1\\x80 \\xd1\\x81\\xd0\\xb2\\xd0\\xbe\\xd0\\xb1\\xd0\\xbe\\xd0\\xb4\\xd1\\x8b \\xd0\\xb8 \\xd0\\xb4\\xd0\\xb5\\xd0\\xbc\\xd0\\xbe\\xd0\\xba\\xd1\\x80\\xd0\\xb0\\xd1\\x82\\xd0\\xb8\\xd0\\xb8 \\xd0\\xb2 \\xd0\\xa1\\xd0\\xa8\\xd0\\x90 \\xd0\\xb2\\xd0\\xb7\\xd1\\x8f\\xd0\\xbb\\xd0\\xb8 \\xd1\\x88\\xd1\\x82\\xd1\\x83\\xd1\\x80\\xd0\\xbc\\xd0\\xbe\\xd0\\xbc. \\xd0\\x9a\\xd0\\xbe\\xd0\\xb3\\xd0\\xb4\\xd0\\xb0 \\xd1\\x82\\xd0\\xb0\\xd0\\xba\\xd1\\x83\\xd1\\x8e \\xd0\\xbd\\xd0\\xb0\\xd1\\x80\\xd0\\xbe\\xd0\\xb4\\xd0\\xbd\\xd1\\x83\\xd1\\x8e \\xd0\\xb4\\xd0\\xb5\\xd0\\xbc\\xd0\\xbe\\xd0\\xba\\xd1\\x80\\xd0\\xb0\\xd1\\x82\\xd0\\xb8\\xd1\\x8e \\xd0\\xbd\\xd0\\xb0\\xd0\\xb7\\xd1\\x8b\\xd0\\xb2\\xd0\\xb0\\xd1\\x8e\\xd1\\x82 \\xd1\\x82\\xd0\\xb5\\xd1\\x80\\xd1\\x80\\xd0\\xbe\\xd1\\x80\\xd0\\xb8\\xd0\\xb7\\xd0\\xbc\\xd0\\xbe\\xd0\\xbc \\xd0\\xb8 \\xd0\\xbb\\xd1\\x8e\\xd0\\xb4\\xd0\\xb5\\xd0\\xb9 \\xd0\\xb2 \\xd0\\xa1\\xd0\\xa8\\xd0\\x90 \\xd0\\xb7\\xd0\\xb0 \\xd1\\x83\\xd1\\x87\\xd0\\xb0\\xd1\\x81\\xd1\\x82\\xd0\\xb8\\xd0\\xb5 \\xd0\\xb2 \\xd1\\x88\\xd1\\x82\\xd1\\x83\\xd1\\x80\\xd0\\xbc\\xd0\\xb5 \\xd1\\x83\\xd0\\xb2\\xd0\\xbe\\xd0\\xbb\\xd1\\x8c\\xd0\\xbd\\xd1\\x8f\\xd1\\x8e\\xd1\\x82, \\xd1\\x82\\xd0\\xbe \\xd0\\xbd\\xd0\\xb8 \\xd0\\xbe \\xd0\\xba\\xd0\\xb0\\xd0\\xba\\xd0\\xbe\\xd0\\xb9 \\xd1\\x81\\xd0\\xb2\\xd0\\xbe\\xd0\\xb1\\xd0\\xbe\\xd0\\xb4\\xd0\\xb5 \\xd0\\xb3\\xd0\\xbe\\xd0\\xb2\\xd0\\xbe\\xd1\\x80\\xd0\\xb8\\xd1\\x82\\xd1\\x8c \\xd0\\xbd\\xd0\\xb5 \\xd0\\xbf\\xd1\\x80\\xd0\\xb8\\xd1\\x85\\xd0\\xbe\\xd0\\xb4\\xd0\\xb8\\xd1\\x82\\xd1\\x8c\\xd1\\x81\\xd1\\x8f.\\n\\n\\xd0\\x92\\xd0\\xbe\\xd1\\x82 \\xd0\\xb8 \\xd0\\xbf\\xd0\\xbe\\xd0\\xbb\\xd1\\x83\\xd1\\x87\\xd0\\xb0\\xd0\\xb5\\xd1\\x82\\xd1\\x81\\xd1\\x8f, \\xd1\\x87\\xd1\\x82\\xd0\\xbe \\xd1\\x88\\xd1\\x91\\xd0\\xbb \\xd0\\xbc\\xd0\\xb8\\xd1\\x80 100 \\xd0\\xbb\\xd0\\xb5\\xd1\\x82 \\xd0\\xbd\\xd0\\xb0\\xd0\\xb7\\xd0\\xb0\\xd0\\xb4 \\xd0\\xba \\xd0\\xb4\\xd0\\xb8\\xd0\\xba\\xd1\\x82\\xd0\\xb0\\xd1\\x82\\xd1\\x83\\xd1\\x80\\xd0\\xb5 \\xd0\\xbf\\xd1\\x80\\xd0\\xbe\\xd0\\xbb\\xd0\\xb5\\xd1\\x82\\xd0\\xb0\\xd1\\x80\\xd0\\xb8\\xd0\\xb0\\xd1\\x82\\xd0\\xb0, \\xd0\\xb0 \\xd1\\x81\\xd0\\xbf\\xd1\\x83\\xd1\\x81\\xd1\\x82\\xd1\\x8f 100 \\xd0\\xbb\\xd0\\xb5\\xd1\\x82 \\xd0\\xbf\\xd1\\x80\\xd0\\xb8\\xd1\\x88\\xd1\\x91\\xd0\\xbb \\xd0\\xba \\xd0\\xb4\\xd0\\xb8\\xd0\\xba\\xd1\\x82\\xd0\\xb0\\xd1\\x82\\xd1\\x83\\xd1\\x80\\xd0\\xb5 \\xd0\\xb3\\xd0\\xbe\\xd1\\x81\\xd1\\x83\\xd0\\xb4\\xd0\\xb0\\xd1\\x80\\xd1\\x81\\xd1\\x82\\xd0\\xb2.\\n\\n\\xd0\\x92 \\xd1\\x8d\\xd1\\x82\\xd0\\xbe\\xd0\\xb9 \\xd1\\x81\\xd0\\xb2\\xd1\\x8f\\xd0\\xb7\\xd0\\xb8 \\xd0\\xb2\\xd0\\xb0\\xd0\\xba\\xd1\\x86\\xd0\\xb8\\xd0\\xbd\\xd0\\xb0\\xd1\\x86\\xd0\\xb8\\xd1\\x8e \\xd0\\xba\\xd0\\xb0\\xd0\\xba \\xd0\\xbf\\xd1\\x80\\xd0\\xb8\\xd0\\xbd\\xd1\\x83\\xd0\\xb4\\xd0\\xb8\\xd1\\x82\\xd0\\xb5\\xd0\\xbb\\xd1\\x8c\\xd0\\xbd\\xd0\\xbe\\xd0\\xb5 \\xd1\\x8f\\xd0\\xb2\\xd0\\xbb\\xd0\\xb5\\xd0\\xbd\\xd0\\xb8\\xd0\\xb5 \\xd0\\xb2 \\xd0\\xbe\\xd0\\xb1\\xd1\\x89\\xd0\\xb5\\xd1\\x81\\xd1\\x82\\xd0\\xb2\\xd0\\xb5 \\xd0\\xbd\\xd0\\xb0\\xd1\\x87\\xd0\\xb8\\xd0\\xbd\\xd0\\xb0\\xd1\\x8e\\xd1\\x82 \\xd0\\xbf\\xd1\\x80\\xd0\\xb5\\xd0\\xbf\\xd0\\xbe\\xd0\\xb4\\xd0\\xbd\\xd0\\xbe\\xd1\\x81\\xd0\\xb8\\xd1\\x82\\xd1\\x8c \\xd0\\xba\\xd0\\xb0\\xd0\\xba \\xd0\\xbd\\xd0\\xb5\\xd0\\xbe\\xd0\\xb1\\xd1\\x85\\xd0\\xbe\\xd0\\xb4\\xd0\\xb8\\xd0\\xbc\\xd0\\xbe\\xd1\\x81\\xd1\\x82\\xd1\\x8c, \\xd0\\xba\\xd0\\xb0\\xd0\\xba \\xd1\\x81\\xd0\\xb0\\xd0\\xbc\\xd0\\xbe \\xd1\\x81\\xd0\\xbe\\xd0\\xb1\\xd0\\xbe\\xd0\\xb9 \\xd0\\xb5\\xd1\\x81\\xd1\\x82\\xd0\\xb5\\xd1\\x81\\xd1\\x82\\xd0\\xb2\\xd0\\xb5\\xd0\\xbd\\xd0\\xbd\\xd0\\xbe\\xd0\\xb5, \\xd0\\xba\\xd0\\xb0\\xd0\\xba \\xd0\\xba\\xd0\\xbe\\xd0\\xb3\\xd0\\xb4\\xd0\\xb0-\\xd1\\x82\\xd0\\xbe \\xd0\\xb3\\xd0\\xbe\\xd0\\xb4 \\xd0\\xbd\\xd0\\xb0\\xd0\\xb7\\xd0\\xb0\\xd0\\xb4 \\xd0\\xbf\\xd1\\x80\\xd0\\xb5\\xd0\\xbf\\xd0\\xbe\\xd0\\xb4\\xd0\\xbd\\xd0\\xbe\\xd1\\x81\\xd0\\xb8\\xd0\\xbb\\xd0\\xb8 \\xd0\\xb2 \\xd0\\xba\\xd0\\xb0\\xd1\\x87\\xd0\\xb5\\xd1\\x81\\xd1\\x82\\xd0\\xb2\\xd0\\xb5 \\xd0\\xbd\\xd0\\xb5\\xd0\\xbe\\xd0\\xb1\\xd1\\x85\\xd0\\xbe\\xd0\\xb4\\xd0\\xb8\\xd0\\xbc\\xd0\\xbe\\xd0\\xb3\\xd0\\xbe \\xd0\\xbd\\xd0\\xb0\\xd0\\xbc \\xd0\\xb2\\xd0\\xb0\\xd0\\xb6\\xd0\\xbd\\xd0\\xbe\\xd1\\x81\\xd1\\x82\\xd1\\x8c \\xd1\\x85\\xd0\\xbe\\xd0\\xb4\\xd0\\xb8\\xd1\\x82\\xd1\\x8c \\xd0\\xb2 \\xd0\\xbc\\xd0\\xb0\\xd1\\x81\\xd0\\xba\\xd0\\xb5 \\xd0\\xb8 \\xd0\\xbf\\xd0\\xb5\\xd1\\x80\\xd1\\x87\\xd0\\xb0\\xd1\\x82\\xd0\\xba\\xd0\\xb0\\xd1\\x85.\\n\\n\\xd0\\x98\\xd1\\x81\\xd1\\x82\\xd0\\xbe\\xd1\\x80\\xd0\\xb8\\xd1\\x8f \\xd0\\xbf\\xd0\\xbe\\xd0\\xb2\\xd1\\x82\\xd0\\xbe\\xd1\\x80\\xd1\\x8f\\xd0\\xb5\\xd1\\x82\\xd1\\x81\\xd1\\x8f, \\xd0\\xb0 \\xd1\\x82\\xd0\\xbe\\xd0\\xbb\\xd0\\xbf\\xd0\\xb0 \\xd0\\xb2\\xd1\\x81\\xd1\\x91 \\xd0\\xb8\\xd0\\xb4\\xd1\\x91\\xd1\\x82 \\xd0\\xbf\\xd0\\xbe \\xd1\\x80\\xd1\\x83\\xd1\\x81\\xd0\\xbb\\xd1\\x83 \\xd1\\x80\\xd0\\xb5\\xd0\\xba\\xd0\\xb8:\\n\\n\\n\\n\\xd0\\x9a\\xd0\\xb0\\xd0\\xb6\\xd0\\xb4\\xd1\\x8b\\xd0\\xb9 \\xd0\\xb8\\xd0\\xb7 \\xd0\\xbd\\xd0\\xb0\\xd1\\x81 \\xd1\\x85\\xd0\\xbe\\xd1\\x82\\xd1\\x8c \\xd1\\x80\\xd0\\xb0\\xd0\\xb7 \\xd0\\xb8\\xd1\\x81\\xd0\\xbf\\xd1\\x8b\\xd1\\x82\\xd0\\xb0\\xd0\\xbb \\xd1\\x8d\\xd1\\x84\\xd1\\x84\\xd0\\xb5\\xd0\\xba\\xd1\\x82 \\xd1\\x82\\xd0\\xbe\\xd0\\xbb\\xd0\\xbf\\xd1\\x8b \\xd1\\x81\\xd0\\xb0\\xd0\\xbc \\xd1\\x82\\xd0\\xbe\\xd0\\xb3\\xd0\\xbe \\xd0\\xbd\\xd0\\xb5 \\xd0\\xbf\\xd0\\xbe\\xd0\\xb4\\xd0\\xbe\\xd0\\xb7\\xd1\\x80\\xd0\\xb5\\xd0\\xb2\\xd0\\xb0\\xd1\\x8f. \\xd0\\xa1\\xd0\\xb0\\xd0\\xbc\\xd1\\x8b\\xd0\\xbc \\xd1\\x8f\\xd1\\x80\\xd0\\xba\\xd0\\xb8\\xd0\\xbc \\xd0\\xbf\\xd1\\x80\\xd0\\xb8\\xd0\\xbc\\xd0\\xb5\\xd1\\x80\\xd0\\xbe\\xd0\\xbc \\xd1\\x8f\\xd0\\xb2\\xd0\\xbb\\xd1\\x8f\\xd0\\xb5\\xd1\\x82\\xd1\\x81\\xd1\\x8f \\xd0\\xbf\\xd0\\xbe\\xd1\\x81\\xd0\\xb5\\xd1\\x89\\xd0\\xb5\\xd0\\xbd\\xd0\\xb8\\xd1\\x8f \\xd0\\xba\\xd0\\xbe\\xd0\\xbd\\xd1\\x86\\xd0\\xb5\\xd1\\x80\\xd1\\x82\\xd0\\xb0 \\xd0\\xb8\\xd0\\xbb\\xd0\\xb8 \\xd1\\x82\\xd0\\xb0\\xd0\\xbd\\xd1\\x86\\xd1\\x8b. \\xd0\\x9a\\xd1\\x82\\xd0\\xbe \\xd0\\xb1\\xd1\\x8b\\xd0\\xbb, \\xd1\\x82\\xd0\\xbe \\xd0\\xb2\\xd1\\x81\\xd0\\xbf\\xd0\\xbe\\xd0\\xbc\\xd0\\xbd\\xd0\\xb8\\xd1\\x82, \\xd0\\xba\\xd0\\xb0\\xd0\\xba \\xd0\\xbe\\xd0\\xbd \\xd0\\xbf\\xd0\\xbe\\xd0\\xb4\\xd0\\xbf\\xd0\\xb5\\xd0\\xb2\\xd0\\xb0\\xd0\\xbb \\xd0\\xb8\\xd1\\x81\\xd0\\xbf\\xd0\\xbe\\xd0\\xbb\\xd0\\xbd\\xd0\\xb8\\xd1\\x82\\xd0\\xb5\\xd0\\xbb\\xd1\\x8e \\xd0\\xb8\\xd0\\xbb\\xd0\\xb8 \\xd1\\x82\\xd0\\xb0\\xd0\\xbd\\xd1\\x86\\xd0\\xb5\\xd0\\xb2\\xd0\\xb0\\xd0\\xbb \\xd0\\xb2\\xd0\\xbc\\xd0\\xb5\\xd1\\x81\\xd1\\x82\\xd0\\xb5 \\xd1\\x81 \\xd0\\xbe\\xd1\\x81\\xd1\\x82\\xd0\\xb0\\xd0\\xbb\\xd1\\x8c\\xd0\\xbd\\xd1\\x8b\\xd0\\xbc\\xd0\\xb8, \\xd0\\xb8\\xd0\\xb1\\xd0\\xbe \\xd1\\x82\\xd0\\xb0\\xd0\\xba \\xd0\\xb4\\xd0\\xb5\\xd0\\xbb\\xd0\\xb0\\xd0\\xbb\\xd0\\xb8 \\xd0\\xb2\\xd1\\x81\\xd0\\xb5.\\n\\n\\xd0\\x9a\\xd0\\xbe\\xd0\\xb3\\xd0\\xb4\\xd0\\xb0-\\xd1\\x82\\xd0\\xbe \\xd0\\xa4\\xd1\\x8e\\xd1\\x80\\xd0\\xb5\\xd1\\x80 \\xd0\\xb2 \\xd0\\x93\\xd0\\xb5\\xd1\\x80\\xd0\\xbc\\xd0\\xb0\\xd0\\xbd\\xd0\\xb8\\xd0\\xb8 \\xd1\\x82\\xd0\\xbe\\xd0\\xb6\\xd0\\xb5 \\xd0\\xb0\\xd0\\xb3\\xd0\\xb8\\xd1\\x82\\xd0\\xb8\\xd1\\x80\\xd0\\xbe\\xd0\\xb2\\xd0\\xb0\\xd0\\xbb \\xd0\\xbc\\xd0\\xb0\\xd1\\x81\\xd1\\x81\\xd1\\x8b \\xd0\\xb8\\xd0\\xb4\\xd1\\x82\\xd0\\xb8 \\xd0\\xb7\\xd0\\xb0 \\xd0\\xb5\\xd0\\xb3\\xd0\\xbe \\xd1\\x80\\xd0\\xb0\\xd0\\xb7\\xd1\\x80\\xd1\\x83\\xd1\\x88\\xd0\\xb8\\xd1\\x82\\xd0\\xb5\\xd0\\xbb\\xd1\\x8c\\xd0\\xbd\\xd1\\x8b\\xd0\\xbc\\xd0\\xb8 \\xd0\\xb8\\xd0\\xb4\\xd0\\xb5\\xd1\\x8f\\xd0\\xbc\\xd0\\xb8. \\xd0\\x9f\\xd0\\xbe\\xd1\\x82\\xd0\\xbe\\xd0\\xbc \\xd0\\xb2 \\xd0\\x92\\xd0\\xbe\\xd1\\x81\\xd1\\x82\\xd0\\xbe\\xd1\\x87\\xd0\\xbd\\xd1\\x83\\xd1\\x8e \\xd0\\x93\\xd0\\xb5\\xd1\\x80\\xd0\\xbc\\xd0\\xb0\\xd0\\xbd\\xd0\\xb8\\xd1\\x8e \\xd0\\xbf\\xd1\\x80\\xd0\\xb8\\xd1\\x88\\xd1\\x91\\xd0\\xbb \\xd0\\xa1\\xd0\\xa1\\xd0\\xa1\\xd0\\xa0 \\xd0\\xb8 \\xd0\\xbb\\xd1\\x8e\\xd0\\xb4\\xd0\\xb8 \\xd0\\xbf\\xd0\\xbe\\xd0\\xb2\\xd0\\xb5\\xd1\\x80\\xd0\\xb8\\xd0\\xbb\\xd0\\xb8 \\xd0\\xb2 \\xd0\\xb2\\xd0\\xb0\\xd0\\xb6\\xd0\\xbd\\xd0\\xbe\\xd1\\x81\\xd1\\x82\\xd1\\x8c \\xd0\\xba\\xd0\\xbe\\xd0\\xbc\\xd0\\xbc\\xd1\\x83\\xd0\\xbd\\xd0\\xb8\\xd0\\xb7\\xd0\\xbc\\xd0\\xb0 \\xd0\\xb8 \\xd0\\xbd\\xd0\\xb0\\xd1\\x87\\xd0\\xb0\\xd0\\xbb\\xd0\\xb8 \\xd0\\xb2\\xd0\\xb5\\xd1\\x80\\xd0\\xb8\\xd1\\x82\\xd1\\x8c \\xd0\\xb2 \\xd1\\x8d\\xd1\\x82\\xd0\\xb8 \\xd0\\xb8\\xd0\\xb4\\xd0\\xb5\\xd0\\xb8. \\xd0\\x92 90\\xd1\\x85 \\xd0\\xbf\\xd1\\x80\\xd0\\xb8\\xd1\\x88\\xd0\\xbb\\xd0\\xb0 \\xd0\\xb4\\xd0\\xb5\\xd0\\xbc\\xd0\\xbe\\xd0\\xba\\xd1\\x80\\xd0\\xb0\\xd1\\x82\\xd0\\xb8\\xd1\\x8f \\xd0\\xb8 \\xd0\\xbb\\xd1\\x8e\\xd0\\xb4\\xd0\\xb8 \\xd0\\xb2\\xd0\\xbd\\xd0\\xbe\\xd0\\xb2\\xd1\\x8c \\xd0\\xbf\\xd0\\xbe\\xd1\\x88\\xd0\\xbb\\xd0\\xb8 \\xd0\\xbf\\xd0\\xbe \\xd1\\x80\\xd1\\x83\\xd1\\x81\\xd0\\xbb\\xd1\\x83 \\xd1\\x82\\xd0\\xb5\\xd1\\x87\\xd0\\xb5\\xd0\\xbd\\xd0\\xb8\\xd1\\x8f \\xd0\\xb8 \\xd1\\x81\\xd1\\x82\\xd0\\xb0\\xd0\\xbb\\xd0\\xb8 \\xd0\\xb2\\xd0\\xb5\\xd1\\x80\\xd0\\xbd\\xd1\\x8b \\xd0\\xb4\\xd0\\xb5\\xd0\\xbc\\xd0\\xbe\\xd0\\xba\\xd1\\x80\\xd0\\xb0\\xd1\\x82\\xd0\\xb8\\xd0\\xb8. \\xd0\\xa2\\xd0\\xb5\\xd0\\xbf\\xd0\\xb5\\xd1\\x80\\xd1\\x8c \\xd0\\xb8\\xd0\\xbc \\xd0\\xb3\\xd0\\xbe\\xd0\\xb2\\xd0\\xbe\\xd1\\x80\\xd1\\x8f\\xd1\\x82, \\xd1\\x87\\xd1\\x82\\xd0\\xbe \\xd0\\xba\\xd0\\xbe\\xd0\\xb2\\xd0\\xb8\\xd0\\xb4\\xd0\\xbd\\xd1\\x8b\\xd0\\xb9 \\xd0\\xbf\\xd0\\xb0\\xd1\\x81\\xd0\\xbf\\xd0\\xbe\\xd1\\x80\\xd1\\x82 \\xd1\\x8d\\xd1\\x82\\xd0\\xbe \\xd0\\xbd\\xd0\\xbe\\xd1\\x80\\xd0\\xbc\\xd0\\xb0, \\xd0\\xb8 \\xd0\\xbb\\xd1\\x8e\\xd0\\xb4\\xd0\\xb8 \\xd1\\x83\\xd0\\xb6\\xd0\\xb5 \\xd0\\xb8\\xd0\\xb4\\xd1\\x83\\xd1\\x82 \\xd0\\xb7\\xd0\\xb0 \\xd1\\x8d\\xd1\\x82\\xd0\\xb8\\xd0\\xbc, \\xd0\\xb2\\xd0\\xb5\\xd0\\xb4\\xd1\\x8c \\xd0\\xbe\\xd0\\xbd\\xd0\\xb8 \\xd0\\xb4\\xd1\\x83\\xd0\\xbc\\xd0\\xb0\\xd1\\x8e\\xd1\\x82, \\xd1\\x87\\xd1\\x82\\xd0\\xbe \\xd1\\x8d\\xd1\\x82\\xd0\\xbe \\xd0\\xb8\\xd1\\x85 \\xd0\\xb2\\xd1\\x8b\\xd0\\xb1\\xd0\\xbe\\xd1\\x80\\n\\n\\xd0\\x92 \\xd0\\xbe\\xd0\\xbf\\xd0\\xb8\\xd1\\x81\\xd0\\xb0\\xd0\\xbd\\xd0\\xbd\\xd0\\xbe\\xd0\\xbc \\xd0\\xbf\\xd1\\x80\\xd0\\xb8\\xd0\\xbc\\xd0\\xb5\\xd1\\x80\\xd0\\xb5 \\xd0\\xbb\\xd1\\x8e\\xd0\\xb4\\xd0\\xb8 \\xd0\\xb4\\xd1\\x83\\xd0\\xbc\\xd0\\xb0\\xd1\\x8e\\xd1\\x82, \\xd1\\x87\\xd1\\x82\\xd0\\xbe \\xd1\\x8d\\xd1\\x82\\xd0\\xbe \\xd0\\xb8\\xd1\\x85 \\xd0\\xb2\\xd1\\x8b\\xd0\\xb1\\xd0\\xbe\\xd1\\x80, \\xd0\\xbd\\xd0\\xbe \\xd1\\x8d\\xd1\\x82\\xd0\\xbe \\xd0\\xb2\\xd1\\x8b\\xd0\\xb1\\xd0\\xbe\\xd1\\x80, \\xd0\\xba\\xd0\\xbe\\xd1\\x82\\xd0\\xbe\\xd1\\x80\\xd1\\x8b\\xd0\\xb9 \\xd0\\xbb\\xd1\\x8e\\xd0\\xb4\\xd1\\x8f\\xd0\\xbc \\xd0\\xb4\\xd0\\xb0\\xd0\\xbb\\xd0\\xb8.\\xc2\\xa0\\xd0\\xad\\xd1\\x82\\xd0\\xbe \\xd0\\xb2\\xd1\\x8b\\xd0\\xbd\\xd1\\x83\\xd0\\xb6\\xd0\\xb4\\xd0\\xb5\\xd0\\xbd\\xd0\\xbd\\xd0\\xb0\\xd1\\x8f \\xd0\\xbc\\xd0\\xb5\\xd1\\x80\\xd0\\xb0, \\xd0\\xb0 \\xd0\\xbd\\xd0\\xb5 \\xd0\\xb2\\xd1\\x8b\\xd0\\xb1\\xd0\\xbe\\xd1\\x80. \\xd0\\xad\\xd1\\x82\\xd0\\xbe \\xd1\\x80\\xd0\\xb0\\xd0\\xbc\\xd0\\xba\\xd0\\xb8, \\xd0\\xb2 \\xd0\\xba\\xd0\\xbe\\xd1\\x82\\xd0\\xbe\\xd1\\x80\\xd1\\x8b\\xd0\\xb5 \\xd0\\xb3\\xd0\\xbe\\xd1\\x81\\xd1\\x83\\xd0\\xb4\\xd0\\xb0\\xd1\\x80\\xd1\\x81\\xd1\\x82\\xd0\\xb2\\xd0\\xb0 \\xd0\\xb7\\xd0\\xb0\\xd0\\xb6\\xd0\\xb0\\xd0\\xbb\\xd0\\xb8 \\xd0\\xbb\\xd1\\x8e\\xd0\\xb4\\xd0\\xb5\\xd0\\xb9: \\xd0\\xbb\\xd0\\xb8\\xd0\\xb1\\xd0\\xbe \\xd0\\xb2\\xd0\\xb0\\xd0\\xba\\xd1\\x86\\xd0\\xb8\\xd0\\xbd\\xd0\\xb0, \\xd0\\xbb\\xd0\\xb8\\xd0\\xb1\\xd0\\xbe \\xd1\\x81\\xd0\\xb8\\xd0\\xb4\\xd0\\xb8 \\xd0\\xb4\\xd0\\xbe\\xd0\\xbc\\xd0\\xb0. \\xd0\\x9e\\xd0\\xb4\\xd0\\xbd\\xd0\\xb0\\xd0\\xba\\xd0\\xbe \\xd1\\x80\\xd0\\xb5\\xd0\\xb0\\xd0\\xbb\\xd1\\x8c\\xd0\\xbd\\xd1\\x8b\\xd0\\xb9 \\xd0\\xb2\\xd1\\x8b\\xd0\\xb1\\xd0\\xbe\\xd1\\x80 \\xd0\\xbb\\xd1\\x8e\\xd0\\xb4\\xd1\\x8f\\xd0\\xbc \\xd0\\xbd\\xd0\\xb8\\xd0\\xba\\xd1\\x82\\xd0\\xbe \\xd0\\xbd\\xd0\\xb8\\xd0\\xba\\xd0\\xbe\\xd0\\xb3\\xd0\\xb4\\xd0\\xb0 \\xd0\\xbd\\xd0\\xb5 \\xd0\\xb4\\xd0\\xb0\\xd1\\x81\\xd1\\x82....\\n\\n\\xd0\\x92 \\xd1\\x82\\xd0\\xb0\\xd0\\xba\\xd0\\xbe\\xd0\\xbc \\xd1\\x81\\xd0\\xbb\\xd1\\x83\\xd1\\x87\\xd0\\xb0\\xd0\\xb5 \\xd0\\xb2\\xd0\\xbe\\xd0\\xb7\\xd0\\xbd\\xd0\\xb8\\xd0\\xba\\xd0\\xb0\\xd0\\xb5\\xd1\\x82 \\xd0\\xbc\\xd1\\x8b\\xd1\\x81\\xd0\\xbb\\xd1\\x8c, \\xd0\\xb0 \\xd1\\x87\\xd1\\x82\\xd0\\xbe \\xd0\\xb5\\xd1\\x81\\xd0\\xbb\\xd0\\xb8 \\xd0\\xb3\\xd0\\xbe\\xd1\\x81\\xd1\\x83\\xd0\\xb4\\xd0\\xb0\\xd1\\x80\\xd1\\x81\\xd1\\x82\\xd0\\xb2\\xd0\\xb0 \\xd1\\x8d\\xd1\\x82\\xd0\\xbe\\xd0\\xb9 \\xd0\\xb2\\xd0\\xb0\\xd0\\xba\\xd1\\x86\\xd0\\xb8\\xd0\\xbd\\xd0\\xb0\\xd1\\x86\\xd0\\xb8\\xd0\\xb5\\xd0\\xb9 \\xd0\\xb4\\xd0\\xb5\\xd0\\xbb\\xd0\\xb0\\xd0\\xb5\\xd1\\x82 \\xd0\\xbd\\xd0\\xb0\\xd1\\x88\\xd1\\x83 \\xd0\\xb6\\xd0\\xb8\\xd0\\xb7\\xd0\\xbd\\xd1\\x8c \\xd0\\xb1\\xd0\\xb5\\xd0\\xb7\\xd0\\xbe\\xd0\\xbf\\xd0\\xb0\\xd1\\x81\\xd0\\xbd\\xd0\\xb5\\xd0\\xb5, \\xd0\\xb7\\xd0\\xb0\\xd0\\xb1\\xd0\\xbe\\xd1\\x82\\xd0\\xb8\\xd1\\x82\\xd1\\x8c\\xd1\\x81\\xd1\\x8f \\xd0\\xbe \\xd0\\xbd\\xd0\\xb0\\xd1\\x81?\\n\\n\\xd0\\x92 \\xd1\\x86\\xd0\\xb5\\xd0\\xbb\\xd0\\xbe\\xd0\\xbc, \\xd0\\xb1\\xd0\\xbb\\xd0\\xb0\\xd0\\xb3\\xd0\\xbe\\xd0\\xb4\\xd0\\xb0\\xd1\\x80\\xd1\\x8f \\xd0\\xb2\\xd0\\xb0\\xd0\\xba\\xd1\\x86\\xd0\\xb8\\xd0\\xbd\\xd0\\xb5 \\xd0\\xbe\\xd0\\xb1\\xd1\\x89\\xd0\\xb5\\xd1\\x81\\xd1\\x82\\xd0\\xb2\\xd0\\xbe \\xd0\\xb1\\xd1\\x83\\xd0\\xb4\\xd0\\xb5\\xd1\\x82 \\xd1\\x87\\xd1\\x83\\xd0\\xb2\\xd1\\x81\\xd1\\x82\\xd0\\xb2\\xd0\\xbe\\xd0\\xb2\\xd0\\xb0\\xd1\\x82\\xd1\\x8c \\xd1\\x81\\xd0\\xb5\\xd0\\xb1\\xd1\\x8f \\xd1\\x83\\xd0\\xb2\\xd0\\xb5\\xd1\\x80\\xd0\\xb5\\xd0\\xbd\\xd0\\xbd\\xd0\\xb5\\xd0\\xb5. \\xd0\\x92\\xd0\\xbc\\xd0\\xb5\\xd1\\x81\\xd1\\x82\\xd0\\xb5 \\xd1\\x81 \\xd1\\x82\\xd0\\xb5\\xd0\\xbc, \\xd0\\xb3\\xd0\\xbe\\xd1\\x81\\xd1\\x83\\xd0\\xb4\\xd0\\xb0\\xd1\\x80\\xd1\\x81\\xd1\\x82\\xd0\\xb2\\xd0\\xb0 \\xd1\\x8f\\xd0\\xb2\\xd0\\xbb\\xd1\\x8f\\xd1\\x8e\\xd1\\x82\\xd1\\x81\\xd1\\x8f \\xd0\\xbf\\xd0\\xbe \\xd0\\xbf\\xd1\\x80\\xd0\\xb8\\xd1\\x80\\xd0\\xbe\\xd0\\xb4\\xd0\\xb5 \\xd1\\x81\\xd0\\xbe\\xd1\\x86\\xd0\\xb8\\xd0\\xb0\\xd0\\xbb\\xd1\\x8c\\xd0\\xbd\\xd1\\x8b\\xd0\\xbc\\xd0\\xb8 \\xd0\\xb8\\xd0\\xbd\\xd1\\x81\\xd1\\x82\\xd0\\xb8\\xd1\\x82\\xd1\\x83\\xd1\\x82\\xd0\\xb0\\xd0\\xbc\\xd0\\xb8, \\xd0\\xb3\\xd0\\xb0\\xd1\\x80\\xd0\\xb0\\xd0\\xbd\\xd1\\x82\\xd0\\xb8\\xd1\\x80\\xd1\\x83\\xd1\\x8e\\xd1\\x89\\xd0\\xb8\\xd0\\xbc\\xd0\\xb8 \\xd0\\xbb\\xd1\\x8e\\xd0\\xb4\\xd1\\x8f\\xd0\\xbc \\xd0\\xb8\\xd1\\x85 \\xd0\\xb1\\xd0\\xbb\\xd0\\xb0\\xd0\\xb3\\xd0\\xbe, \\xd0\\xb8\\xd0\\xb1\\xd0\\xbe \\xd0\\xb3\\xd1\\x80\\xd0\\xb0\\xd0\\xb6\\xd0\\xb4\\xd0\\xb0\\xd0\\xbd\\xd0\\xb5 \\xd0\\xbf\\xd0\\xbe \\xd0\\xbf\\xd1\\x80\\xd0\\xb8\\xd1\\x80\\xd0\\xbe\\xd0\\xb4\\xd0\\xb5 \\xd1\\x81\\xd0\\xbe\\xd0\\xb7\\xd0\\xb4\\xd0\\xb0\\xd0\\xbb\\xd0\\xb8 \\xd0\\xb3\\xd0\\xbe\\xd1\\x81\\xd1\\x83\\xd0\\xb4\\xd0\\xb0\\xd1\\x80\\xd1\\x81\\xd1\\x82\\xd0\\xb2\\xd0\\xbe \\xd0\\xba\\xd0\\xb0\\xd0\\xba \\xd0\\xbe\\xd0\\xb1\\xd1\\x89\\xd0\\xb5\\xd1\\x81\\xd1\\x82\\xd0\\xb2\\xd0\\xb5\\xd0\\xbd\\xd0\\xbd\\xd1\\x8b\\xd0\\xb9 \\xd0\\xb8\\xd0\\xbd\\xd1\\x81\\xd1\\x82\\xd0\\xb8\\xd1\\x82\\xd1\\x83\\xd1\\x82, \\xd0\\xb0 \\xd0\\xbe\\xd0\\xbd\\xd0\\xbe \\xd0\\xb2 \\xd1\\x81\\xd0\\xb2\\xd0\\xbe\\xd1\\x8e \\xd0\\xbe\\xd1\\x87\\xd0\\xb5\\xd1\\x80\\xd0\\xb5\\xd0\\xb4\\xd1\\x8c \\xd0\\xb3\\xd0\\xb0\\xd1\\x80\\xd0\\xb0\\xd0\\xbd\\xd1\\x82\\xd0\\xb8\\xd1\\x80\\xd0\\xbe\\xd0\\xb2\\xd0\\xb0\\xd0\\xbb\\xd0\\xbe \\xd0\\xb1\\xd0\\xbb\\xd0\\xb0\\xd0\\xb3\\xd0\\xbe \\xd1\\x82\\xd0\\xb5\\xd1\\x85 \\xd0\\xbb\\xd1\\x8e\\xd0\\xb4\\xd0\\xb5\\xd0\\xb9, \\xd0\\xba\\xd1\\x82\\xd0\\xbe \\xd0\\xb3\\xd0\\xbe\\xd1\\x81\\xd1\\x83\\xd0\\xb4\\xd0\\xb0\\xd1\\x80\\xd1\\x81\\xd1\\x82\\xd0\\xb2\\xd0\\xbe \\xd1\\x81\\xd0\\xbe\\xd0\\xb7\\xd0\\xb4\\xd0\\xb0\\xd0\\xbb.\\n\\n\\xd0\\x9f\\xd0\\xbe\\xd1\\x81\\xd0\\xba\\xd0\\xbe\\xd0\\xbb\\xd1\\x8c\\xd0\\xba\\xd1\\x83 \\xd0\\xbc\\xd1\\x8b \\xd0\\xb2\\xd1\\x81\\xd0\\xb5 \\xd0\\xbb\\xd1\\x8e\\xd0\\xb4\\xd0\\xb8 \\xd0\\x97\\xd0\\xb5\\xd0\\xbc\\xd0\\xbb\\xd0\\xb8 \\xd0\\xb6\\xd0\\xb8\\xd0\\xb2\\xd1\\x91\\xd0\\xbc \\xd0\\xb2 \\xd0\\xb3\\xd0\\xbe\\xd1\\x81\\xd1\\x83\\xd0\\xb4\\xd0\\xb0\\xd1\\x80\\xd1\\x81\\xd1\\x82\\xd0\\xb2\\xd0\\xb0\\xd1\\x85, \\xd1\\x82\\xd0\\xbe \\xd0\\xb4\\xd0\\xbe\\xd0\\xbb\\xd0\\xb6\\xd0\\xbd\\xd1\\x8b \\xd0\\xbf\\xd0\\xbe\\xd0\\xbd\\xd0\\xb8\\xd0\\xbc\\xd0\\xb0\\xd1\\x82\\xd1\\x8c, \\xd1\\x87\\xd1\\x82\\xd0\\xbe \\xd0\\xb8\\xd0\\xbc\\xd0\\xb5\\xd0\\xb5\\xd0\\xbc \\xd0\\xbf\\xd1\\x80\\xd0\\xb0\\xd0\\xb2\\xd0\\xbe \\xd0\\xb4\\xd0\\xb8\\xd0\\xba\\xd1\\x82\\xd0\\xbe\\xd0\\xb2\\xd0\\xb0\\xd1\\x82\\xd1\\x8c \\xd0\\xb3\\xd0\\xbe\\xd1\\x81\\xd1\\x83\\xd0\\xb4\\xd0\\xb0\\xd1\\x80\\xd1\\x81\\xd1\\x82\\xd0\\xb2\\xd1\\x83 \\xd0\\xb8\\xd1\\x81\\xd0\\xbf\\xd0\\xbe\\xd0\\xbb\\xd0\\xbd\\xd0\\xb5\\xd0\\xbd\\xd0\\xb8\\xd0\\xb5 \\xd1\\x81\\xd0\\xbe\\xd0\\xb1\\xd1\\x81\\xd1\\x82\\xd0\\xb2\\xd0\\xb5\\xd0\\xbd\\xd0\\xbd\\xd0\\xbe\\xd0\\xb9 \\xd0\\xb2\\xd0\\xbe\\xd0\\xbb\\xd0\\xb8, \\xd0\\xb8\\xd0\\xb1\\xd0\\xbe \\xd0\\xbc\\xd1\\x8b \\xd0\\xb5\\xd0\\xb3\\xd0\\xbe \\xd1\\x81\\xd0\\xbe\\xd0\\xb7\\xd0\\xb4\\xd0\\xb0\\xd1\\x82\\xd0\\xb5\\xd0\\xbb\\xd0\\xb8 \\xd0\\xbf\\xd0\\xbe \\xd0\\xbf\\xd1\\x80\\xd0\\xb8\\xd1\\x80\\xd0\\xbe\\xd0\\xb4\\xd0\\xb5.\\xc2\\xa0\\xd0\\x9a\\xd0\\x9e\\xd0\\x92\\xd0\\x98\\xd0\\x94-\\xd0\\x9f\\xd0\\x90\\xd0\\xa1\\xd0\\x9f\\xd0\\x9e\\xd0\\xa0\\xd0\\xa2 \\xd0\\xb6\\xd0\\xb5 \\xd1\\x80\\xd1\\x83\\xd1\\x88\\xd0\\xb8\\xd1\\x82 \\xd1\\x8d\\xd1\\x82\\xd1\\x83 \\xd0\\xb8\\xd0\\xb4\\xd0\\xb5\\xd1\\x8e, \\xd0\\xbe\\xd0\\xbd \\xd0\\xb8\\xd0\\xb4\\xd1\\x91\\xd1\\x82 \\xd0\\xbf\\xd1\\x80\\xd0\\xbe\\xd1\\x82\\xd0\\xb8\\xd0\\xb2 \\xd0\\xb2\\xd0\\xbe\\xd0\\xbb\\xd0\\xb8 \\xd0\\xbb\\xd1\\x8e\\xd0\\xb4\\xd0\\xb5\\xd0\\xb9, \\xd0\\xbd\\xd0\\xbe \\xd0\\xbf\\xd1\\x80\\xd0\\xb5\\xd0\\xb4\\xd0\\xbe\\xd1\\x81\\xd1\\x82\\xd0\\xb0\\xd0\\xb2\\xd0\\xbb\\xd1\\x8f\\xd0\\xb5\\xd1\\x82 \\xd0\\xb8\\xd0\\xbc \\xd0\\xb2\\xd0\\xb7\\xd0\\xb0\\xd0\\xbc\\xd0\\xb5\\xd0\\xbd \\xd0\\xb3\\xd0\\xb0\\xd1\\x80\\xd0\\xb0\\xd0\\xbd\\xd1\\x82\\xd0\\xb8\\xd0\\xb8 \\xd0\\xb1\\xd0\\xb5\\xd0\\xb7\\xd0\\xbe\\xd0\\xbf\\xd0\\xb0\\xd1\\x81\\xd0\\xbd\\xd0\\xbe\\xd1\\x81\\xd1\\x82\\xd0\\xb8.\\xc2\\xa0\\xd0\\x9d\\xd0\\xbe \\xd0\\xbd\\xd0\\xb5 \\xd0\\xbd\\xd0\\xb0 100%, \\xd0\\xb0 \\xd0\\xbd\\xd0\\xb0 95%, \\xd0\\xb5\\xd1\\x81\\xd0\\xbb\\xd0\\xb8 \\xd0\\xb3\\xd0\\xbe\\xd0\\xb2\\xd0\\xbe\\xd1\\x80\\xd0\\xb8\\xd1\\x82\\xd1\\x8c \\xd0\\xbe\\xd0\\xb1 \\xd1\\x8d\\xd1\\x84\\xd1\\x84\\xd0\\xb5\\xd0\\xba\\xd1\\x82\\xd0\\xb8\\xd0\\xb2\\xd0\\xbd\\xd0\\xbe\\xd1\\x81\\xd1\\x82\\xd0\\xb8 \\xd0\\xb2\\xd0\\xb0\\xd0\\xba\\xd1\\x86\\xd0\\xb8\\xd0\\xbd\\xd1\\x8b \\xd0\\xa1\\xd0\\xbf\\xd1\\x83\\xd1\\x82\\xd0\\xbd\\xd0\\xb8\\xd0\\xba-V :).\\n\\n\\xd0\\x91\\xd1\\x83\\xd0\\xb4\\xd1\\x83 \\xd1\\x80\\xd0\\xb0\\xd0\\xb4 \\xd1\\x83\\xd1\\x81\\xd0\\xbb\\xd1\\x8b\\xd1\\x88\\xd0\\xb0\\xd1\\x82\\xd1\\x8c \\xd0\\xb2\\xd0\\xb0\\xd1\\x88\\xd0\\xb5 \\xd0\\xbc\\xd0\\xbd\\xd0\\xb5\\xd0\\xbd\\xd0\\xb8\\xd0\\xb5 \\xd0\\xbe \\xd0\\x9a\\xd0\\x9e\\xd0\\x92\\xd0\\x98\\xd0\\x94-\\xd0\\x9f\\xd0\\x90\\xd0\\xa1\\xd0\\x9f\\xd0\\x9e\\xd0\\xa0\\xd0\\xa2\\xd0\\x95!\\n\\n'\n",
      "Label(s): ['(WT) Opinion' '(WTO) Promotion']\n",
      " \n"
     ]
    },
    {
     "name": "stderr",
     "output_type": "stream",
     "text": [
      "2023-05-08 16:49:40.131012: I tensorflow/core/common_runtime/executor.cc:1197] [/device:CPU:0] (DEBUG INFO) Executor start aborting (this does not indicate an error and you can ignore this message): INVALID_ARGUMENT: You must feed a value for placeholder tensor 'Placeholder/_1' with dtype float and shape [90,17]\n",
      "\t [[{{node Placeholder/_1}}]]\n",
      "2023-05-08 16:49:40.131605: I tensorflow/core/common_runtime/executor.cc:1197] [/device:CPU:0] (DEBUG INFO) Executor start aborting (this does not indicate an error and you can ignore this message): INVALID_ARGUMENT: You must feed a value for placeholder tensor 'Placeholder/_1' with dtype float and shape [90,17]\n",
      "\t [[{{node Placeholder/_1}}]]\n"
     ]
    }
   ],
   "source": [
    "text_batch, label_batch = next(iter(train_dataset))\n",
    "\n",
    "for i, text in enumerate(text_batch[:1]):\n",
    "    label = label_batch[i].numpy()[None, ...]\n",
    "    print(f\"Text: {text}\")\n",
    "    print(f\"Label(s): {invert_multi_hot(label[0])}\")\n",
    "    print(\" \")"
   ]
  },
  {
   "cell_type": "code",
   "execution_count": 58,
   "metadata": {},
   "outputs": [
    {
     "name": "stdout",
     "output_type": "stream",
     "text": [
      "23288\n"
     ]
    }
   ],
   "source": [
    "vocabulary = set()\n",
    "train_df[\"text\"].str.lower().str.split().apply(vocabulary.update)\n",
    "vocabulary_size = len(vocabulary)\n",
    "print(vocabulary_size)"
   ]
  },
  {
   "cell_type": "code",
   "execution_count": 59,
   "metadata": {},
   "outputs": [
    {
     "name": "stderr",
     "output_type": "stream",
     "text": [
      "2023-05-08 16:49:41.350507: I tensorflow/core/common_runtime/executor.cc:1197] [/device:CPU:0] (DEBUG INFO) Executor start aborting (this does not indicate an error and you can ignore this message): INVALID_ARGUMENT: You must feed a value for placeholder tensor 'Placeholder/_1' with dtype float and shape [90,17]\n",
      "\t [[{{node Placeholder/_1}}]]\n",
      "2023-05-08 16:49:41.350882: I tensorflow/core/common_runtime/executor.cc:1197] [/device:CPU:0] (DEBUG INFO) Executor start aborting (this does not indicate an error and you can ignore this message): INVALID_ARGUMENT: You must feed a value for placeholder tensor 'Placeholder/_1' with dtype float and shape [90,17]\n",
      "\t [[{{node Placeholder/_1}}]]\n"
     ]
    }
   ],
   "source": [
    "text_vectorizer = layers.TextVectorization(\n",
    "    max_tokens=vocabulary_size, ngrams=2, output_mode=\"tf_idf\"\n",
    ")\n",
    "\n",
    "with tf.device(\"/CPU:0\"):\n",
    "    text_vectorizer.adapt(train_dataset.map(lambda text, label: text))\n",
    "\n",
    "train_dataset = train_dataset.map(\n",
    "    lambda text, label: (text_vectorizer(text), label), num_parallel_calls=auto\n",
    ").prefetch(auto)\n",
    "validation_dataset = validation_dataset.map(\n",
    "    lambda text, label: (text_vectorizer(text), label), num_parallel_calls=auto\n",
    ").prefetch(auto)\n",
    "test_dataset = test_dataset.map(\n",
    "    lambda text, label: (text_vectorizer(text), label), num_parallel_calls=auto\n",
    ").prefetch(auto)"
   ]
  },
  {
   "cell_type": "code",
   "execution_count": 60,
   "metadata": {},
   "outputs": [],
   "source": [
    "def make_model():\n",
    "    shallow_mlp_model = keras.Sequential(\n",
    "        [\n",
    "            layers.Dense(512, activation=\"relu\"),\n",
    "            layers.Dense(256, activation=\"relu\"),\n",
    "            layers.Dense(lookup.vocabulary_size(), activation=\"sigmoid\"),\n",
    "        ]\n",
    "    )\n",
    "    return shallow_mlp_model"
   ]
  },
  {
   "cell_type": "code",
   "execution_count": 64,
   "metadata": {},
   "outputs": [
    {
     "data": {
      "text/html": [
       "<div>\n",
       "<style scoped>\n",
       "    .dataframe tbody tr th:only-of-type {\n",
       "        vertical-align: middle;\n",
       "    }\n",
       "\n",
       "    .dataframe tbody tr th {\n",
       "        vertical-align: top;\n",
       "    }\n",
       "\n",
       "    .dataframe thead th {\n",
       "        text-align: right;\n",
       "    }\n",
       "</style>\n",
       "<table border=\"1\" class=\"dataframe\">\n",
       "  <thead>\n",
       "    <tr style=\"text-align: right;\">\n",
       "      <th></th>\n",
       "      <th>id</th>\n",
       "      <th>text</th>\n",
       "      <th>Comments</th>\n",
       "      <th>label</th>\n",
       "    </tr>\n",
       "  </thead>\n",
       "  <tbody>\n",
       "    <tr>\n",
       "      <th>34</th>\n",
       "      <td>61</td>\n",
       "      <td>Теории заговора и коронавирус // Яндекс. Дзен....</td>\n",
       "      <td>[]</td>\n",
       "      <td>[(WT) Opinion, (WTO) Slogans, myths, stereotyp...</td>\n",
       "    </tr>\n",
       "    <tr>\n",
       "      <th>32</th>\n",
       "      <td>59</td>\n",
       "      <td>КОРОНАВИРУС... и теория заговора // Яндекс. Дз...</td>\n",
       "      <td>[]</td>\n",
       "      <td>[(WT) Opinion, (WTO) Obfuscation, (WTO) Irrele...</td>\n",
       "    </tr>\n",
       "    <tr>\n",
       "      <th>26</th>\n",
       "      <td>53</td>\n",
       "      <td>\"антипрививочники\" Димитровграда. Вступаем (20...</td>\n",
       "      <td>[]</td>\n",
       "      <td>[(WT) Opinion, (WTO) Extremums]</td>\n",
       "    </tr>\n",
       "    <tr>\n",
       "      <th>55</th>\n",
       "      <td>82</td>\n",
       "      <td>КАК ПРОИСХОДИТ БЕСКРОВНАЯ РЕВОЛЮЦИЯ НА ЗЕМЛЕ /...</td>\n",
       "      <td>[]</td>\n",
       "      <td>[(WT) Opinion, (WTO) Allegories and metaphors,...</td>\n",
       "    </tr>\n",
       "    <tr>\n",
       "      <th>37</th>\n",
       "      <td>64</td>\n",
       "      <td>Коронавирус. Мировой заговор? Размышления на т...</td>\n",
       "      <td>[]</td>\n",
       "      <td>[(WTO) Slogans, myths, stereotypes, (WT) Opini...</td>\n",
       "    </tr>\n",
       "    <tr>\n",
       "      <th>...</th>\n",
       "      <td>...</td>\n",
       "      <td>...</td>\n",
       "      <td>...</td>\n",
       "      <td>...</td>\n",
       "    </tr>\n",
       "    <tr>\n",
       "      <th>103</th>\n",
       "      <td>131</td>\n",
       "      <td>КОВИД НОВОСТИ (2022) «Заговор молчания»: Иммун...</td>\n",
       "      <td>[]</td>\n",
       "      <td>[(WTO) Irrelevant data / uncheckable data, (WT...</td>\n",
       "    </tr>\n",
       "    <tr>\n",
       "      <th>85</th>\n",
       "      <td>113</td>\n",
       "      <td>Ковид-19 второй удар, что дальше? // Яндекс. Д...</td>\n",
       "      <td>[]</td>\n",
       "      <td>[(WT) Opinion, (WTO) Irrelevant data / uncheck...</td>\n",
       "    </tr>\n",
       "    <tr>\n",
       "      <th>63</th>\n",
       "      <td>90</td>\n",
       "      <td>ГМО-ВАКЦИНЫ - УБИЙЦЫ ПРОТИВ ЧЕЛОВЕЧЕСТВА (2023...</td>\n",
       "      <td>[]</td>\n",
       "      <td>[(WT) Opinion, (WTO) Emotional \"load\", (WTO) P...</td>\n",
       "    </tr>\n",
       "    <tr>\n",
       "      <th>40</th>\n",
       "      <td>67</td>\n",
       "      <td>Ложь, которую нам рассказывают о коронавирусе ...</td>\n",
       "      <td>[]</td>\n",
       "      <td>[(WT) Opinion, (WTO) Allegories and metaphors,...</td>\n",
       "    </tr>\n",
       "    <tr>\n",
       "      <th>101</th>\n",
       "      <td>129</td>\n",
       "      <td>ЛЖЕ-ПАНДЕМИЯ КОРОНАВИРУСА - ВСЕМИРНАЯ АФЁРА (2...</td>\n",
       "      <td>[]</td>\n",
       "      <td>[(WT) Opinion, (WTO) Oversimplification, (WTO)...</td>\n",
       "    </tr>\n",
       "  </tbody>\n",
       "</table>\n",
       "<p>90 rows × 4 columns</p>\n",
       "</div>"
      ],
      "text/plain": [
       "      id                                               text Comments   \n",
       "34    61  Теории заговора и коронавирус // Яндекс. Дзен....       []  \\\n",
       "32    59  КОРОНАВИРУС... и теория заговора // Яндекс. Дз...       []   \n",
       "26    53  \"антипрививочники\" Димитровграда. Вступаем (20...       []   \n",
       "55    82  КАК ПРОИСХОДИТ БЕСКРОВНАЯ РЕВОЛЮЦИЯ НА ЗЕМЛЕ /...       []   \n",
       "37    64  Коронавирус. Мировой заговор? Размышления на т...       []   \n",
       "..   ...                                                ...      ...   \n",
       "103  131  КОВИД НОВОСТИ (2022) «Заговор молчания»: Иммун...       []   \n",
       "85   113  Ковид-19 второй удар, что дальше? // Яндекс. Д...       []   \n",
       "63    90  ГМО-ВАКЦИНЫ - УБИЙЦЫ ПРОТИВ ЧЕЛОВЕЧЕСТВА (2023...       []   \n",
       "40    67  Ложь, которую нам рассказывают о коронавирусе ...       []   \n",
       "101  129  ЛЖЕ-ПАНДЕМИЯ КОРОНАВИРУСА - ВСЕМИРНАЯ АФЁРА (2...       []   \n",
       "\n",
       "                                                 label  \n",
       "34   [(WT) Opinion, (WTO) Slogans, myths, stereotyp...  \n",
       "32   [(WT) Opinion, (WTO) Obfuscation, (WTO) Irrele...  \n",
       "26                     [(WT) Opinion, (WTO) Extremums]  \n",
       "55   [(WT) Opinion, (WTO) Allegories and metaphors,...  \n",
       "37   [(WTO) Slogans, myths, stereotypes, (WT) Opini...  \n",
       "..                                                 ...  \n",
       "103  [(WTO) Irrelevant data / uncheckable data, (WT...  \n",
       "85   [(WT) Opinion, (WTO) Irrelevant data / uncheck...  \n",
       "63   [(WT) Opinion, (WTO) Emotional \"load\", (WTO) P...  \n",
       "40   [(WT) Opinion, (WTO) Allegories and metaphors,...  \n",
       "101  [(WT) Opinion, (WTO) Oversimplification, (WTO)...  \n",
       "\n",
       "[90 rows x 4 columns]"
      ]
     },
     "execution_count": 64,
     "metadata": {},
     "output_type": "execute_result"
    }
   ],
   "source": [
    "train_df"
   ]
  },
  {
   "cell_type": "code",
   "execution_count": 65,
   "metadata": {},
   "outputs": [
    {
     "name": "stdout",
     "output_type": "stream",
     "text": [
      "['[UNK]', '(WTO) Irrelevant data / uncheckable data', '(WT) Opinion', '(WTO) Slogans, myths, stereotypes', '(WTO) Emotional \"load\"', '(WTO) Storytelling', '(WTO) Promotion', '(WTO) Shock content', '(WTO) Mocking, trolling', '(WTO) Obfuscation', '(WTO) Allegories and metaphors', '(WTO) Repetition', '(WTO) Extremums', '(WTO) Oversimplification', '(WT) Reporting', '(WT) Other', '(WT) Satire']\n"
     ]
    }
   ],
   "source": [
    "print(vocab)"
   ]
  },
  {
   "cell_type": "code",
   "execution_count": 75,
   "metadata": {
    "scrolled": true
   },
   "outputs": [
    {
     "name": "stdout",
     "output_type": "stream",
     "text": [
      "Epoch 1/10\n"
     ]
    },
    {
     "name": "stderr",
     "output_type": "stream",
     "text": [
      "2023-05-08 19:10:52.087666: I tensorflow/core/common_runtime/executor.cc:1197] [/device:CPU:0] (DEBUG INFO) Executor start aborting (this does not indicate an error and you can ignore this message): INVALID_ARGUMENT: You must feed a value for placeholder tensor 'Placeholder/_12' with dtype int64\n",
      "\t [[{{node Placeholder/_12}}]]\n",
      "2023-05-08 19:10:52.088261: I tensorflow/core/common_runtime/executor.cc:1197] [/device:CPU:0] (DEBUG INFO) Executor start aborting (this does not indicate an error and you can ignore this message): INVALID_ARGUMENT: You must feed a value for placeholder tensor 'Placeholder/_14' with dtype int64\n",
      "\t [[{{node Placeholder/_14}}]]\n"
     ]
    },
    {
     "name": "stdout",
     "output_type": "stream",
     "text": [
      "23/23 [==============================] - 2s 53ms/step - loss: 0.0326 - binary_accuracy: 0.7392 - categorical_accuracy: 0.3667 - val_loss: 3.0232 - val_binary_accuracy: 0.8235 - val_categorical_accuracy: 0.5000\n",
      "Epoch 2/10\n",
      "23/23 [==============================] - 1s 50ms/step - loss: 0.0109 - binary_accuracy: 0.8941 - categorical_accuracy: 0.3000 - val_loss: 2.1095 - val_binary_accuracy: 0.7824 - val_categorical_accuracy: 0.6000\n",
      "Epoch 3/10\n",
      "23/23 [==============================] - 1s 50ms/step - loss: 0.0032 - binary_accuracy: 0.9497 - categorical_accuracy: 0.4778 - val_loss: 3.2089 - val_binary_accuracy: 0.8235 - val_categorical_accuracy: 0.5000\n",
      "Epoch 4/10\n",
      "23/23 [==============================] - 1s 50ms/step - loss: 0.0016 - binary_accuracy: 0.9797 - categorical_accuracy: 0.5333 - val_loss: 4.2643 - val_binary_accuracy: 0.7588 - val_categorical_accuracy: 0.4000\n",
      "Epoch 5/10\n",
      "23/23 [==============================] - 1s 49ms/step - loss: 5.2667e-04 - binary_accuracy: 0.9908 - categorical_accuracy: 0.6667 - val_loss: 3.8632 - val_binary_accuracy: 0.7882 - val_categorical_accuracy: 0.4000\n",
      "Epoch 6/10\n",
      "23/23 [==============================] - 1s 49ms/step - loss: 4.2527e-04 - binary_accuracy: 0.9928 - categorical_accuracy: 0.4222 - val_loss: 4.9049 - val_binary_accuracy: 0.8235 - val_categorical_accuracy: 0.5000\n",
      "Epoch 7/10\n",
      "23/23 [==============================] - 1s 49ms/step - loss: 2.4633e-04 - binary_accuracy: 0.9954 - categorical_accuracy: 0.7222 - val_loss: 4.5819 - val_binary_accuracy: 0.8235 - val_categorical_accuracy: 0.5000\n",
      "Epoch 8/10\n",
      "23/23 [==============================] - 1s 49ms/step - loss: 7.1584e-05 - binary_accuracy: 0.9993 - categorical_accuracy: 0.6000 - val_loss: 4.0691 - val_binary_accuracy: 0.8235 - val_categorical_accuracy: 0.6000\n",
      "Epoch 9/10\n",
      "23/23 [==============================] - 1s 49ms/step - loss: 3.6173e-05 - binary_accuracy: 1.0000 - categorical_accuracy: 0.5778 - val_loss: 4.0882 - val_binary_accuracy: 0.8235 - val_categorical_accuracy: 0.6000\n",
      "Epoch 10/10\n",
      "23/23 [==============================] - 1s 49ms/step - loss: 2.2840e-05 - binary_accuracy: 1.0000 - categorical_accuracy: 0.5556 - val_loss: 4.2447 - val_binary_accuracy: 0.8235 - val_categorical_accuracy: 0.6000\n"
     ]
    },
    {
     "data": {
      "image/png": "[encoded data removed]",
      "text/plain": [
       "<Figure size 640x480 with 1 Axes>"
      ]
     },
     "metadata": {},
     "output_type": "display_data"
    },
    {
     "data": {
      "image/png": "[encoded data removed]",
      "text/plain": [
       "<Figure size 640x480 with 1 Axes>"
      ]
     },
     "metadata": {},
     "output_type": "display_data"
    }
   ],
   "source": [
    "epochs = 10\n",
    "\n",
    "shallow_mlp_model = make_model()\n",
    "shallow_mlp_model.compile(\n",
    "    loss=\"binary_crossentropy\", optimizer=\"adam\", metrics=[\"binary_accuracy\",\n",
    "    \"categorical_accuracy\"]\n",
    ")\n",
    "\n",
    "class_weight = {label: 1 for label in range(len(vocab))}\n",
    "\n",
    "counts = {}\n",
    "for i, row in train_df.iterrows():\n",
    "    for lab in row[\"label\"]:\n",
    "        counts.setdefault(lab, 0)\n",
    "        counts[lab] += 1\n",
    "for label in counts:\n",
    "    for i in range(len(vocab)):\n",
    "        if label == vocab[i]:\n",
    "            class_weight[i] = 1 / counts[label]\n",
    "\n",
    "history = shallow_mlp_model.fit(\n",
    "    train_dataset, validation_data=validation_dataset, epochs=epochs, class_weight=class_weight\n",
    ")\n",
    "\n",
    "\n",
    "def plot_result(item):\n",
    "    plt.plot(history.history[item], label=item)\n",
    "    plt.plot(history.history[\"val_\" + item], label=\"val_\" + item)\n",
    "    plt.xlabel(\"Epochs\")\n",
    "    plt.ylabel(item)\n",
    "    plt.title(\"Train and Validation {} Over Epochs\".format(item), fontsize=14)\n",
    "    plt.legend()\n",
    "    plt.grid()\n",
    "    plt.show()\n",
    "\n",
    "\n",
    "plot_result(\"loss\")\n",
    "plot_result(\"binary_accuracy\")"
   ]
  },
  {
   "cell_type": "code",
   "execution_count": 77,
   "metadata": {},
   "outputs": [
    {
     "name": "stdout",
     "output_type": "stream",
     "text": [
      "7/7 [==============================] - 0s 5ms/step - loss: 2.9212 - binary_accuracy: 0.7929 - categorical_accuracy: 0.5600\n",
      "Categorical accuracy on the test set: 79.29%.\n"
     ]
    }
   ],
   "source": [
    "_, binary_acc, cat_acc = shallow_mlp_model.evaluate(test_dataset)\n",
    "print(f\"Categorical accuracy on the test set: {round(binary_acc * 100, 2)}%.\")"
   ]
  },
  {
   "cell_type": "code",
   "execution_count": 78,
   "metadata": {},
   "outputs": [
    {
     "name": "stdout",
     "output_type": "stream",
     "text": [
      "1/1 [==============================] - 0s 93ms/step\n",
      "Label(s): ['(WT) Opinion' '(WTO) Storytelling' '(WTO) Mocking, trolling'\n",
      " '(WTO) Oversimplification']\n",
      "Predicted Label(s): ((WTO) Irrelevant data / uncheckable data, (WT) Opinion)\n",
      " \n",
      "Label(s): ['(WTO) Irrelevant data / uncheckable data' '(WT) Opinion'\n",
      " '(WTO) Slogans, myths, stereotypes' '(WTO) Storytelling'\n",
      " '(WTO) Shock content' '(WTO) Allegories and metaphors']\n",
      "Predicted Label(s): ((WTO) Irrelevant data / uncheckable data, (WT) Opinion)\n",
      " \n",
      "Label(s): ['(WTO) Irrelevant data / uncheckable data' '(WT) Opinion'\n",
      " '(WTO) Slogans, myths, stereotypes']\n",
      "Predicted Label(s): ((WTO) Irrelevant data / uncheckable data, (WT) Opinion)\n",
      " \n",
      "Label(s): ['(WT) Opinion' '(WTO) Slogans, myths, stereotypes'\n",
      " '(WTO) Emotional \"load\"' '(WTO) Repetition']\n",
      "Predicted Label(s): ((WTO) Irrelevant data / uncheckable data, (WT) Opinion)\n",
      " \n",
      "1/1 [==============================] - 0s 20ms/step\n"
     ]
    },
    {
     "name": "stderr",
     "output_type": "stream",
     "text": [
      "2023-05-08 19:11:25.408544: I tensorflow/core/common_runtime/executor.cc:1197] [/device:CPU:0] (DEBUG INFO) Executor start aborting (this does not indicate an error and you can ignore this message): INVALID_ARGUMENT: You must feed a value for placeholder tensor 'Placeholder/_1' with dtype float and shape [25,17]\n",
      "\t [[{{node Placeholder/_1}}]]\n"
     ]
    },
    {
     "name": "stdout",
     "output_type": "stream",
     "text": [
      "Label(s): ['(WTO) Slogans, myths, stereotypes' '(WTO) Storytelling'\n",
      " '(WTO) Promotion' '(WT) Reporting']\n",
      "Predicted Label(s): ((WTO) Irrelevant data / uncheckable data, (WT) Opinion)\n",
      " \n",
      "Label(s): ['(WT) Reporting']\n",
      "Predicted Label(s): ((WTO) Irrelevant data / uncheckable data, (WT) Opinion)\n",
      " \n",
      "Label(s): ['(WTO) Irrelevant data / uncheckable data' '(WT) Opinion'\n",
      " '(WTO) Slogans, myths, stereotypes' '(WTO) Emotional \"load\"'\n",
      " '(WTO) Storytelling' '(WTO) Promotion' '(WTO) Shock content'\n",
      " '(WTO) Extremums']\n",
      "Predicted Label(s): ((WTO) Irrelevant data / uncheckable data, (WT) Opinion)\n",
      " \n",
      "Label(s): ['(WTO) Irrelevant data / uncheckable data' '(WT) Opinion'\n",
      " '(WTO) Slogans, myths, stereotypes' '(WTO) Obfuscation'\n",
      " '(WTO) Repetition']\n",
      "Predicted Label(s): ((WTO) Irrelevant data / uncheckable data, (WT) Opinion)\n",
      " \n",
      "1/1 [==============================] - 0s 25ms/step\n",
      "Label(s): ['(WT) Opinion' '(WTO) Slogans, myths, stereotypes' '(WTO) Promotion'\n",
      " '(WTO) Shock content']\n",
      "Predicted Label(s): ((WT) Opinion, (WTO) Irrelevant data / uncheckable data)\n",
      " \n",
      "Label(s): ['(WTO) Irrelevant data / uncheckable data' '(WT) Opinion'\n",
      " '(WTO) Storytelling' '(WTO) Promotion' '(WTO) Shock content'\n",
      " '(WTO) Mocking, trolling']\n",
      "Predicted Label(s): ((WTO) Irrelevant data / uncheckable data, (WT) Opinion, (WTO) Slogans, myths, stereotypes, (WTO) Shock content)\n",
      " \n",
      "Label(s): ['(WTO) Irrelevant data / uncheckable data' '(WT) Opinion'\n",
      " '(WTO) Slogans, myths, stereotypes' '(WTO) Shock content'\n",
      " '(WTO) Obfuscation']\n",
      "Predicted Label(s): ((WTO) Irrelevant data / uncheckable data, (WT) Opinion)\n",
      " \n",
      "Label(s): ['(WT) Opinion' '(WTO) Slogans, myths, stereotypes' '(WTO) Promotion'\n",
      " '(WTO) Allegories and metaphors']\n",
      "Predicted Label(s): ((WTO) Irrelevant data / uncheckable data, (WT) Opinion, (WTO) Slogans, myths, stereotypes)\n",
      " \n",
      "1/1 [==============================] - 0s 24ms/step\n",
      "Label(s): ['(WT) Opinion' '(WTO) Oversimplification']\n",
      "Predicted Label(s): ((WTO) Irrelevant data / uncheckable data, (WT) Opinion)\n",
      " \n",
      "Label(s): ['(WT) Opinion' '(WTO) Emotional \"load\"' '(WTO) Repetition']\n",
      "Predicted Label(s): ((WTO) Irrelevant data / uncheckable data, (WT) Opinion)\n",
      " \n",
      "Label(s): ['(WTO) Promotion' '(WT) Other']\n",
      "Predicted Label(s): ((WTO) Irrelevant data / uncheckable data, (WT) Opinion)\n",
      " \n",
      "Label(s): ['(WT) Opinion']\n",
      "Predicted Label(s): ((WT) Opinion, (WTO) Irrelevant data / uncheckable data)\n",
      " \n",
      "1/1 [==============================] - 0s 27ms/step\n",
      "Label(s): ['(WTO) Irrelevant data / uncheckable data' '(WT) Opinion'\n",
      " '(WTO) Slogans, myths, stereotypes' '(WTO) Emotional \"load\"'\n",
      " '(WTO) Storytelling' '(WTO) Promotion' '(WTO) Mocking, trolling'\n",
      " '(WTO) Obfuscation']\n",
      "Predicted Label(s): ((WTO) Irrelevant data / uncheckable data, (WT) Opinion)\n",
      " \n",
      "Label(s): ['(WTO) Irrelevant data / uncheckable data' '(WT) Opinion'\n",
      " '(WTO) Emotional \"load\"' '(WTO) Mocking, trolling' '(WTO) Extremums']\n",
      "Predicted Label(s): ((WTO) Irrelevant data / uncheckable data, (WT) Opinion)\n",
      " \n",
      "Label(s): ['(WTO) Emotional \"load\"' '(WTO) Mocking, trolling'\n",
      " '(WTO) Allegories and metaphors' '(WT) Satire']\n",
      "Predicted Label(s): ((WTO) Irrelevant data / uncheckable data, (WT) Opinion)\n",
      " \n",
      "Label(s): ['(WTO) Irrelevant data / uncheckable data' '(WT) Opinion'\n",
      " '(WTO) Slogans, myths, stereotypes' '(WTO) Storytelling'\n",
      " '(WTO) Promotion']\n",
      "Predicted Label(s): ((WTO) Irrelevant data / uncheckable data, (WT) Opinion)\n",
      " \n",
      "1/1 [==============================] - 0s 26ms/step\n",
      "Label(s): ['(WTO) Irrelevant data / uncheckable data' '(WT) Opinion'\n",
      " '(WTO) Slogans, myths, stereotypes' '(WTO) Promotion' '(WTO) Obfuscation'\n",
      " '(WTO) Allegories and metaphors' '(WTO) Extremums']\n",
      "Predicted Label(s): ((WTO) Irrelevant data / uncheckable data, (WT) Opinion)\n",
      " \n",
      "Label(s): ['(WTO) Irrelevant data / uncheckable data' '(WT) Opinion'\n",
      " '(WTO) Extremums']\n",
      "Predicted Label(s): ((WTO) Irrelevant data / uncheckable data, (WT) Opinion)\n",
      " \n",
      "Label(s): ['(WT) Opinion' '(WTO) Storytelling']\n",
      "Predicted Label(s): ((WTO) Irrelevant data / uncheckable data, (WT) Opinion)\n",
      " \n",
      "Label(s): ['(WT) Opinion' '(WTO) Emotional \"load\"' '(WTO) Shock content']\n",
      "Predicted Label(s): ((WTO) Irrelevant data / uncheckable data, (WT) Opinion)\n",
      " \n",
      "1/1 [==============================] - 0s 28ms/step\n",
      "Label(s): ['(WTO) Irrelevant data / uncheckable data' '(WT) Opinion'\n",
      " '(WTO) Storytelling' '(WTO) Mocking, trolling' '(WTO) Repetition'\n",
      " '(WTO) Oversimplification']\n",
      "Predicted Label(s): ((WTO) Irrelevant data / uncheckable data, (WT) Opinion)\n",
      " \n"
     ]
    }
   ],
   "source": [
    "model_for_inference = keras.Sequential([text_vectorizer, shallow_mlp_model])\n",
    "\n",
    "# Create a small dataset just for demoing inference.\n",
    "inference_dataset = make_dataset(test_df, is_train=False)\n",
    "for text_batch, label_batch in inference_dataset:\n",
    "    predicted_probabilities = model_for_inference.predict(text_batch)\n",
    "\n",
    "    # Perform inference.\n",
    "    for i, text in enumerate(text_batch):\n",
    "        label = label_batch[i].numpy()[None, ...]\n",
    "        print(f\"Label(s): {invert_multi_hot(label[0])}\")\n",
    "        predicted_proba = [proba for proba in predicted_probabilities[i]]\n",
    "        labels = sorted(\n",
    "                zip(predicted_probabilities[i], lookup.get_vocabulary()),\n",
    "                key=lambda pair: pair[0],\n",
    "                reverse=True,\n",
    "            )\n",
    "        print(f\"Predicted Label(s): ({', '.join([label[1] for label in labels if label[0] > 0.5])})\")\n",
    "        print(\" \")"
   ]
  },
  {
   "cell_type": "code",
   "execution_count": null,
   "metadata": {},
   "outputs": [],
   "source": []
  }
 ],
 "metadata": {
  "kernelspec": {
   "display_name": "tf2.12",
   "language": "python",
   "name": "tf2.12"
  },
  "language_info": {
   "codemirror_mode": {
    "name": "ipython",
    "version": 3
   },
   "file_extension": ".py",
   "mimetype": "text/x-python",
   "name": "python",
   "nbconvert_exporter": "python",
   "pygments_lexer": "ipython3",
   "version": "3.8.13"
  }
 },
 "nbformat": 4,
 "nbformat_minor": 2
}
